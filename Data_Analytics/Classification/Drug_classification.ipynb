{
 "cells": [
  {
   "cell_type": "markdown",
   "id": "29453ee8",
   "metadata": {},
   "source": [
    "## Imports"
   ]
  },
  {
   "cell_type": "code",
   "execution_count": 1,
   "id": "d7841297",
   "metadata": {},
   "outputs": [],
   "source": [
    "# For this practical example we will need the following libraries and modules\n",
    "import numpy as np\n",
    "import pandas as pd\n",
    "import statsmodels.api as sm\n",
    "import matplotlib.pyplot as plt\n",
    "from sklearn.linear_model import LinearRegression\n",
    "import seaborn as sns\n",
    "sns.set()"
   ]
  },
  {
   "cell_type": "markdown",
   "id": "4bf764c4",
   "metadata": {},
   "source": [
    "### Palette"
   ]
  },
  {
   "cell_type": "code",
   "execution_count": 2,
   "id": "ec51f506",
   "metadata": {},
   "outputs": [
    {
     "name": "stdout",
     "output_type": "stream",
     "text": [
      "THEME\n"
     ]
    },
    {
     "data": {
      "image/png": "[encoded data removed]",
      "text/plain": [
       "<Figure size 360x72 with 1 Axes>"
      ]
     },
     "metadata": {},
     "output_type": "display_data"
    }
   ],
   "source": [
    "#Lets set the style of all our seaborn based plots\n",
    "plt.style.use(['ggplot'])\n",
    "# Setting the theme of our plots\n",
    "theme = [\"#4a2e36\", \"#82fB6B\",\"#69cc60\",\"#536d19\",\"#99a129\"]\n",
    "print('THEME')\n",
    "sns.palplot(sns.color_palette(theme))\n",
    "palette= sns.set_palette(sns.color_palette(theme))"
   ]
  },
  {
   "cell_type": "markdown",
   "id": "9ccbb53c",
   "metadata": {},
   "source": [
    "****\n",
    "### Load dataset and preprocess"
   ]
  },
  {
   "cell_type": "code",
   "execution_count": 3,
   "id": "30eb07d1",
   "metadata": {},
   "outputs": [
    {
     "data": {
      "text/html": [
       "<style type=\"text/css\">\n",
       "#T_f8fbf_row0_col0 {\n",
       "  background-color: #bce4b5;\n",
       "  color: #000000;\n",
       "}\n",
       "#T_f8fbf_row0_col4 {\n",
       "  background-color: #afdfa8;\n",
       "  color: #000000;\n",
       "}\n",
       "#T_f8fbf_row1_col0, #T_f8fbf_row2_col0 {\n",
       "  background-color: #268e47;\n",
       "  color: #f1f1f1;\n",
       "}\n",
       "#T_f8fbf_row1_col4 {\n",
       "  background-color: #e9f7e5;\n",
       "  color: #000000;\n",
       "}\n",
       "#T_f8fbf_row2_col4 {\n",
       "  background-color: #f1faee;\n",
       "  color: #000000;\n",
       "}\n",
       "#T_f8fbf_row3_col0 {\n",
       "  background-color: #9fd899;\n",
       "  color: #000000;\n",
       "}\n",
       "#T_f8fbf_row3_col4 {\n",
       "  background-color: #f7fcf5;\n",
       "  color: #000000;\n",
       "}\n",
       "#T_f8fbf_row4_col0 {\n",
       "  background-color: #00441b;\n",
       "  color: #f1f1f1;\n",
       "}\n",
       "#T_f8fbf_row4_col4 {\n",
       "  background-color: #d5efcf;\n",
       "  color: #000000;\n",
       "}\n",
       "</style>\n",
       "<table id=\"T_f8fbf_\">\n",
       "  <thead>\n",
       "    <tr>\n",
       "      <th class=\"blank level0\" >&nbsp;</th>\n",
       "      <th class=\"col_heading level0 col0\" >Age</th>\n",
       "      <th class=\"col_heading level0 col1\" >Sex</th>\n",
       "      <th class=\"col_heading level0 col2\" >BP</th>\n",
       "      <th class=\"col_heading level0 col3\" >Cholesterol</th>\n",
       "      <th class=\"col_heading level0 col4\" >Na_to_K</th>\n",
       "      <th class=\"col_heading level0 col5\" >Drug</th>\n",
       "    </tr>\n",
       "  </thead>\n",
       "  <tbody>\n",
       "    <tr>\n",
       "      <th id=\"T_f8fbf_level0_row0\" class=\"row_heading level0 row0\" >0</th>\n",
       "      <td id=\"T_f8fbf_row0_col0\" class=\"data row0 col0\" >23</td>\n",
       "      <td id=\"T_f8fbf_row0_col1\" class=\"data row0 col1\" >F</td>\n",
       "      <td id=\"T_f8fbf_row0_col2\" class=\"data row0 col2\" >HIGH</td>\n",
       "      <td id=\"T_f8fbf_row0_col3\" class=\"data row0 col3\" >HIGH</td>\n",
       "      <td id=\"T_f8fbf_row0_col4\" class=\"data row0 col4\" >25.355000</td>\n",
       "      <td id=\"T_f8fbf_row0_col5\" class=\"data row0 col5\" >DrugY</td>\n",
       "    </tr>\n",
       "    <tr>\n",
       "      <th id=\"T_f8fbf_level0_row1\" class=\"row_heading level0 row1\" >1</th>\n",
       "      <td id=\"T_f8fbf_row1_col0\" class=\"data row1 col0\" >47</td>\n",
       "      <td id=\"T_f8fbf_row1_col1\" class=\"data row1 col1\" >M</td>\n",
       "      <td id=\"T_f8fbf_row1_col2\" class=\"data row1 col2\" >LOW</td>\n",
       "      <td id=\"T_f8fbf_row1_col3\" class=\"data row1 col3\" >HIGH</td>\n",
       "      <td id=\"T_f8fbf_row1_col4\" class=\"data row1 col4\" >13.093000</td>\n",
       "      <td id=\"T_f8fbf_row1_col5\" class=\"data row1 col5\" >drugC</td>\n",
       "    </tr>\n",
       "    <tr>\n",
       "      <th id=\"T_f8fbf_level0_row2\" class=\"row_heading level0 row2\" >2</th>\n",
       "      <td id=\"T_f8fbf_row2_col0\" class=\"data row2 col0\" >47</td>\n",
       "      <td id=\"T_f8fbf_row2_col1\" class=\"data row2 col1\" >M</td>\n",
       "      <td id=\"T_f8fbf_row2_col2\" class=\"data row2 col2\" >LOW</td>\n",
       "      <td id=\"T_f8fbf_row2_col3\" class=\"data row2 col3\" >HIGH</td>\n",
       "      <td id=\"T_f8fbf_row2_col4\" class=\"data row2 col4\" >10.114000</td>\n",
       "      <td id=\"T_f8fbf_row2_col5\" class=\"data row2 col5\" >drugC</td>\n",
       "    </tr>\n",
       "    <tr>\n",
       "      <th id=\"T_f8fbf_level0_row3\" class=\"row_heading level0 row3\" >3</th>\n",
       "      <td id=\"T_f8fbf_row3_col0\" class=\"data row3 col0\" >28</td>\n",
       "      <td id=\"T_f8fbf_row3_col1\" class=\"data row3 col1\" >F</td>\n",
       "      <td id=\"T_f8fbf_row3_col2\" class=\"data row3 col2\" >NORMAL</td>\n",
       "      <td id=\"T_f8fbf_row3_col3\" class=\"data row3 col3\" >HIGH</td>\n",
       "      <td id=\"T_f8fbf_row3_col4\" class=\"data row3 col4\" >7.798000</td>\n",
       "      <td id=\"T_f8fbf_row3_col5\" class=\"data row3 col5\" >drugX</td>\n",
       "    </tr>\n",
       "    <tr>\n",
       "      <th id=\"T_f8fbf_level0_row4\" class=\"row_heading level0 row4\" >4</th>\n",
       "      <td id=\"T_f8fbf_row4_col0\" class=\"data row4 col0\" >61</td>\n",
       "      <td id=\"T_f8fbf_row4_col1\" class=\"data row4 col1\" >F</td>\n",
       "      <td id=\"T_f8fbf_row4_col2\" class=\"data row4 col2\" >LOW</td>\n",
       "      <td id=\"T_f8fbf_row4_col3\" class=\"data row4 col3\" >HIGH</td>\n",
       "      <td id=\"T_f8fbf_row4_col4\" class=\"data row4 col4\" >18.043000</td>\n",
       "      <td id=\"T_f8fbf_row4_col5\" class=\"data row4 col5\" >DrugY</td>\n",
       "    </tr>\n",
       "  </tbody>\n",
       "</table>\n"
      ],
      "text/plain": [
       "<pandas.io.formats.style.Styler at 0x7fee282aeb80>"
      ]
     },
     "execution_count": 3,
     "metadata": {},
     "output_type": "execute_result"
    }
   ],
   "source": [
    "# Load the data from a .csv in the same folder\n",
    "data = pd.read_csv('drug200.csv')\n",
    "\n",
    "# Let's explore the top 5 rows of the df\n",
    "data.head().style.background_gradient(cmap='Greens',axis=None)"
   ]
  },
  {
   "cell_type": "code",
   "execution_count": 4,
   "id": "780dd791",
   "metadata": {},
   "outputs": [
    {
     "data": {
      "text/html": [
       "<style type=\"text/css\">\n",
       "#T_f7072_row0_col0, #T_f7072_row1_col0 {\n",
       "  background-color: #00441b;\n",
       "  color: #f1f1f1;\n",
       "}\n",
       "#T_f7072_row0_col1 {\n",
       "  background-color: #d4eece;\n",
       "  color: #000000;\n",
       "}\n",
       "#T_f7072_row0_col2 {\n",
       "  background-color: #f0f9ec;\n",
       "  color: #000000;\n",
       "}\n",
       "#T_f7072_row0_col3, #T_f7072_row1_col5 {\n",
       "  background-color: #f1faee;\n",
       "  color: #000000;\n",
       "}\n",
       "#T_f7072_row0_col4 {\n",
       "  background-color: #e5f5e0;\n",
       "  color: #000000;\n",
       "}\n",
       "#T_f7072_row0_col5 {\n",
       "  background-color: #d3eecd;\n",
       "  color: #000000;\n",
       "}\n",
       "#T_f7072_row0_col6 {\n",
       "  background-color: #c2e7bb;\n",
       "  color: #000000;\n",
       "}\n",
       "#T_f7072_row0_col7 {\n",
       "  background-color: #a9dca3;\n",
       "  color: #000000;\n",
       "}\n",
       "#T_f7072_row1_col1 {\n",
       "  background-color: #f0f9ed;\n",
       "  color: #000000;\n",
       "}\n",
       "#T_f7072_row1_col2 {\n",
       "  background-color: #f6fcf4;\n",
       "  color: #000000;\n",
       "}\n",
       "#T_f7072_row1_col3 {\n",
       "  background-color: #f7fcf5;\n",
       "  color: #000000;\n",
       "}\n",
       "#T_f7072_row1_col4 {\n",
       "  background-color: #f4fbf2;\n",
       "  color: #000000;\n",
       "}\n",
       "#T_f7072_row1_col6 {\n",
       "  background-color: #edf8ea;\n",
       "  color: #000000;\n",
       "}\n",
       "#T_f7072_row1_col7 {\n",
       "  background-color: #dbf1d6;\n",
       "  color: #000000;\n",
       "}\n",
       "</style>\n",
       "<table id=\"T_f7072_\">\n",
       "  <thead>\n",
       "    <tr>\n",
       "      <th class=\"blank level0\" >&nbsp;</th>\n",
       "      <th class=\"col_heading level0 col0\" >count</th>\n",
       "      <th class=\"col_heading level0 col1\" >mean</th>\n",
       "      <th class=\"col_heading level0 col2\" >std</th>\n",
       "      <th class=\"col_heading level0 col3\" >min</th>\n",
       "      <th class=\"col_heading level0 col4\" >25%</th>\n",
       "      <th class=\"col_heading level0 col5\" >50%</th>\n",
       "      <th class=\"col_heading level0 col6\" >75%</th>\n",
       "      <th class=\"col_heading level0 col7\" >max</th>\n",
       "    </tr>\n",
       "  </thead>\n",
       "  <tbody>\n",
       "    <tr>\n",
       "      <th id=\"T_f7072_level0_row0\" class=\"row_heading level0 row0\" >Age</th>\n",
       "      <td id=\"T_f7072_row0_col0\" class=\"data row0 col0\" >200.000000</td>\n",
       "      <td id=\"T_f7072_row0_col1\" class=\"data row0 col1\" >44.315000</td>\n",
       "      <td id=\"T_f7072_row0_col2\" class=\"data row0 col2\" >16.544315</td>\n",
       "      <td id=\"T_f7072_row0_col3\" class=\"data row0 col3\" >15.000000</td>\n",
       "      <td id=\"T_f7072_row0_col4\" class=\"data row0 col4\" >31.000000</td>\n",
       "      <td id=\"T_f7072_row0_col5\" class=\"data row0 col5\" >45.000000</td>\n",
       "      <td id=\"T_f7072_row0_col6\" class=\"data row0 col6\" >58.000000</td>\n",
       "      <td id=\"T_f7072_row0_col7\" class=\"data row0 col7\" >74.000000</td>\n",
       "    </tr>\n",
       "    <tr>\n",
       "      <th id=\"T_f7072_level0_row1\" class=\"row_heading level0 row1\" >Na_to_K</th>\n",
       "      <td id=\"T_f7072_row1_col0\" class=\"data row1 col0\" >200.000000</td>\n",
       "      <td id=\"T_f7072_row1_col1\" class=\"data row1 col1\" >16.084485</td>\n",
       "      <td id=\"T_f7072_row1_col2\" class=\"data row1 col2\" >7.223956</td>\n",
       "      <td id=\"T_f7072_row1_col3\" class=\"data row1 col3\" >6.269000</td>\n",
       "      <td id=\"T_f7072_row1_col4\" class=\"data row1 col4\" >10.445500</td>\n",
       "      <td id=\"T_f7072_row1_col5\" class=\"data row1 col5\" >13.936500</td>\n",
       "      <td id=\"T_f7072_row1_col6\" class=\"data row1 col6\" >19.380000</td>\n",
       "      <td id=\"T_f7072_row1_col7\" class=\"data row1 col7\" >38.247000</td>\n",
       "    </tr>\n",
       "  </tbody>\n",
       "</table>\n"
      ],
      "text/plain": [
       "<pandas.io.formats.style.Styler at 0x7fee2826bfa0>"
      ]
     },
     "execution_count": 4,
     "metadata": {},
     "output_type": "execute_result"
    }
   ],
   "source": [
    "# check for numeric data\n",
    "data.describe().T.style.background_gradient(cmap='Greens',axis=None)"
   ]
  },
  {
   "cell_type": "markdown",
   "id": "f679f30e",
   "metadata": {},
   "source": [
    "Already looks like a normal distribution data"
   ]
  },
  {
   "cell_type": "code",
   "execution_count": 5,
   "id": "c215db52",
   "metadata": {},
   "outputs": [
    {
     "data": {
      "text/html": [
       "<div><div id=158318e7-e585-4911-b631-3416cbbb7900 style=\"display:none; background-color:#9D6CFF; color:white; width:200px; height:30px; padding-left:5px; border-radius:4px; flex-direction:row; justify-content:space-around; align-items:center;\" onmouseover=\"this.style.backgroundColor='#BA9BF8'\" onmouseout=\"this.style.backgroundColor='#9D6CFF'\" onclick=\"window.commands?.execute('create-mitosheet-from-dataframe-output');\">See Full Dataframe in Mito</div> <script> if (window.commands.hasCommand('create-mitosheet-from-dataframe-output')) document.getElementById('158318e7-e585-4911-b631-3416cbbb7900').style.display = 'flex' </script> <table border=\"1\" class=\"dataframe\">\n",
       "  <thead>\n",
       "    <tr style=\"text-align: right;\">\n",
       "      <th></th>\n",
       "      <th>count</th>\n",
       "      <th>unique</th>\n",
       "      <th>top</th>\n",
       "      <th>freq</th>\n",
       "      <th>mean</th>\n",
       "      <th>std</th>\n",
       "      <th>min</th>\n",
       "      <th>25%</th>\n",
       "      <th>50%</th>\n",
       "      <th>75%</th>\n",
       "      <th>max</th>\n",
       "    </tr>\n",
       "  </thead>\n",
       "  <tbody>\n",
       "    <tr>\n",
       "      <th>Age</th>\n",
       "      <td>200.0</td>\n",
       "      <td>NaN</td>\n",
       "      <td>NaN</td>\n",
       "      <td>NaN</td>\n",
       "      <td>44.315</td>\n",
       "      <td>16.544315</td>\n",
       "      <td>15.0</td>\n",
       "      <td>31.0</td>\n",
       "      <td>45.0</td>\n",
       "      <td>58.0</td>\n",
       "      <td>74.0</td>\n",
       "    </tr>\n",
       "    <tr>\n",
       "      <th>Sex</th>\n",
       "      <td>200</td>\n",
       "      <td>2</td>\n",
       "      <td>M</td>\n",
       "      <td>104</td>\n",
       "      <td>NaN</td>\n",
       "      <td>NaN</td>\n",
       "      <td>NaN</td>\n",
       "      <td>NaN</td>\n",
       "      <td>NaN</td>\n",
       "      <td>NaN</td>\n",
       "      <td>NaN</td>\n",
       "    </tr>\n",
       "    <tr>\n",
       "      <th>BP</th>\n",
       "      <td>200</td>\n",
       "      <td>3</td>\n",
       "      <td>HIGH</td>\n",
       "      <td>77</td>\n",
       "      <td>NaN</td>\n",
       "      <td>NaN</td>\n",
       "      <td>NaN</td>\n",
       "      <td>NaN</td>\n",
       "      <td>NaN</td>\n",
       "      <td>NaN</td>\n",
       "      <td>NaN</td>\n",
       "    </tr>\n",
       "    <tr>\n",
       "      <th>Cholesterol</th>\n",
       "      <td>200</td>\n",
       "      <td>2</td>\n",
       "      <td>HIGH</td>\n",
       "      <td>103</td>\n",
       "      <td>NaN</td>\n",
       "      <td>NaN</td>\n",
       "      <td>NaN</td>\n",
       "      <td>NaN</td>\n",
       "      <td>NaN</td>\n",
       "      <td>NaN</td>\n",
       "      <td>NaN</td>\n",
       "    </tr>\n",
       "    <tr>\n",
       "      <th>Na_to_K</th>\n",
       "      <td>200.0</td>\n",
       "      <td>NaN</td>\n",
       "      <td>NaN</td>\n",
       "      <td>NaN</td>\n",
       "      <td>16.084485</td>\n",
       "      <td>7.223956</td>\n",
       "      <td>6.269</td>\n",
       "      <td>10.4455</td>\n",
       "      <td>13.9365</td>\n",
       "      <td>19.38</td>\n",
       "      <td>38.247</td>\n",
       "    </tr>\n",
       "    <tr>\n",
       "      <th>Drug</th>\n",
       "      <td>200</td>\n",
       "      <td>5</td>\n",
       "      <td>DrugY</td>\n",
       "      <td>91</td>\n",
       "      <td>NaN</td>\n",
       "      <td>NaN</td>\n",
       "      <td>NaN</td>\n",
       "      <td>NaN</td>\n",
       "      <td>NaN</td>\n",
       "      <td>NaN</td>\n",
       "      <td>NaN</td>\n",
       "    </tr>\n",
       "  </tbody>\n",
       "</table></div>"
      ],
      "text/plain": [
       "             count unique    top freq       mean        std    min      25%  \\\n",
       "Age          200.0    NaN    NaN  NaN     44.315  16.544315   15.0     31.0   \n",
       "Sex            200      2      M  104        NaN        NaN    NaN      NaN   \n",
       "BP             200      3   HIGH   77        NaN        NaN    NaN      NaN   \n",
       "Cholesterol    200      2   HIGH  103        NaN        NaN    NaN      NaN   \n",
       "Na_to_K      200.0    NaN    NaN  NaN  16.084485   7.223956  6.269  10.4455   \n",
       "Drug           200      5  DrugY   91        NaN        NaN    NaN      NaN   \n",
       "\n",
       "                 50%    75%     max  \n",
       "Age             45.0   58.0    74.0  \n",
       "Sex              NaN    NaN     NaN  \n",
       "BP               NaN    NaN     NaN  \n",
       "Cholesterol      NaN    NaN     NaN  \n",
       "Na_to_K      13.9365  19.38  38.247  \n",
       "Drug             NaN    NaN     NaN  "
      ]
     },
     "execution_count": 5,
     "metadata": {},
     "output_type": "execute_result"
    }
   ],
   "source": [
    "data.describe(include='all').T"
   ]
  },
  {
   "cell_type": "markdown",
   "id": "c2de6135",
   "metadata": {},
   "source": [
    "* We can also see there is no missing data in our dataset.\n",
    "* We can also see we do not have too many unique names for the objects data."
   ]
  },
  {
   "cell_type": "markdown",
   "id": "1bbc8b90",
   "metadata": {},
   "source": [
    "**We do see that the most frequent drug is DrugY, and we will make sure we do not have biased data.**"
   ]
  },
  {
   "cell_type": "code",
   "execution_count": 6,
   "id": "1deda5e3",
   "metadata": {},
   "outputs": [
    {
     "data": {
      "text/plain": [
       "<matplotlib.axes._subplots.AxesSubplot at 0x7fee2101d550>"
      ]
     },
     "execution_count": 6,
     "metadata": {},
     "output_type": "execute_result"
    },
    {
     "data": {
      "image/png": "[encoded data removed]",
      "text/plain": [
       "<Figure size 432x288 with 1 Axes>"
      ]
     },
     "metadata": {},
     "output_type": "display_data"
    }
   ],
   "source": [
    "sns.countplot(data['Drug'])"
   ]
  },
  {
   "cell_type": "markdown",
   "id": "e1ae952e",
   "metadata": {},
   "source": [
    "As suspected, there is a bit of imbalanced data, but not something very siginificant:<br>\n",
    "91 VS ~18, but we do have 5 drug types.<br>\n",
    "Therefore, we won't treat this as imbalanced data."
   ]
  },
  {
   "cell_type": "code",
   "execution_count": 7,
   "id": "4195d5c6",
   "metadata": {},
   "outputs": [
    {
     "data": {
      "text/plain": [
       "<matplotlib.axes._subplots.AxesSubplot at 0x7fee210f0a90>"
      ]
     },
     "execution_count": 7,
     "metadata": {},
     "output_type": "execute_result"
    },
    {
     "data": {
      "image/png": "[encoded data removed]",
      "text/plain": [
       "<Figure size 432x288 with 1 Axes>"
      ]
     },
     "metadata": {},
     "output_type": "display_data"
    }
   ],
   "source": [
    "sns.countplot(data['Sex'])"
   ]
  },
  {
   "cell_type": "code",
   "execution_count": 8,
   "id": "3d1dbac0",
   "metadata": {
    "scrolled": true
   },
   "outputs": [
    {
     "data": {
      "text/plain": [
       "<matplotlib.axes._subplots.AxesSubplot at 0x7fee21237940>"
      ]
     },
     "execution_count": 8,
     "metadata": {},
     "output_type": "execute_result"
    },
    {
     "data": {
      "image/png": "[encoded data removed]",
      "text/plain": [
       "<Figure size 432x288 with 1 Axes>"
      ]
     },
     "metadata": {},
     "output_type": "display_data"
    }
   ],
   "source": [
    "sns.distplot(data['Age'])"
   ]
  },
  {
   "cell_type": "code",
   "execution_count": 9,
   "id": "4dc19d1f",
   "metadata": {
    "scrolled": true
   },
   "outputs": [
    {
     "data": {
      "text/plain": [
       "<matplotlib.axes._subplots.AxesSubplot at 0x7fee211257f0>"
      ]
     },
     "execution_count": 9,
     "metadata": {},
     "output_type": "execute_result"
    },
    {
     "data": {
      "image/png": "[encoded data removed]",
      "text/plain": [
       "<Figure size 432x288 with 1 Axes>"
      ]
     },
     "metadata": {},
     "output_type": "display_data"
    }
   ],
   "source": [
    "sns.boxplot(x=data['Drug'],y=data['Age'])"
   ]
  },
  {
   "cell_type": "markdown",
   "id": "465a7812",
   "metadata": {},
   "source": [
    "Looks like we also can see that DrugB is significaltly relevant only to the elderly aged, mostly above 60 yo."
   ]
  },
  {
   "cell_type": "code",
   "execution_count": 10,
   "id": "1d1136ee",
   "metadata": {},
   "outputs": [
    {
     "data": {
      "text/plain": [
       "<matplotlib.axes._subplots.AxesSubplot at 0x7fee285652e0>"
      ]
     },
     "execution_count": 10,
     "metadata": {},
     "output_type": "execute_result"
    },
    {
     "data": {
      "image/png": "[encoded data removed]",
      "text/plain": [
       "<Figure size 432x288 with 1 Axes>"
      ]
     },
     "metadata": {},
     "output_type": "display_data"
    }
   ],
   "source": [
    "sns.distplot(data['Na_to_K'])"
   ]
  },
  {
   "cell_type": "markdown",
   "id": "cb55e4ff",
   "metadata": {},
   "source": [
    "We have here right skew data in column **Na_to_K**."
   ]
  },
  {
   "cell_type": "markdown",
   "id": "c7c703f9",
   "metadata": {},
   "source": [
    "***\n",
    "## Feature engineering\n"
   ]
  },
  {
   "cell_type": "code",
   "execution_count": 11,
   "id": "2758ff71",
   "metadata": {},
   "outputs": [],
   "source": [
    "data_temp = data.copy()"
   ]
  },
  {
   "cell_type": "code",
   "execution_count": 12,
   "id": "636dfaed",
   "metadata": {},
   "outputs": [],
   "source": [
    "data_temp['Drug']=data_temp['Drug'].map({'drugA':0,'drugB':1,'drugC':2,'drugX':3,'DrugY':4})"
   ]
  },
  {
   "cell_type": "code",
   "execution_count": 13,
   "id": "9bc22ee8",
   "metadata": {},
   "outputs": [],
   "source": [
    "data_with_dummies = pd.get_dummies(data_temp, drop_first=True)"
   ]
  },
  {
   "cell_type": "code",
   "execution_count": 14,
   "id": "eb4321a8",
   "metadata": {
    "scrolled": true
   },
   "outputs": [
    {
     "data": {
      "text/html": [
       "<div><div id=8f7072ac-0d76-4dc1-886c-b4041be0a795 style=\"display:none; background-color:#9D6CFF; color:white; width:200px; height:30px; padding-left:5px; border-radius:4px; flex-direction:row; justify-content:space-around; align-items:center;\" onmouseover=\"this.style.backgroundColor='#BA9BF8'\" onmouseout=\"this.style.backgroundColor='#9D6CFF'\" onclick=\"window.commands?.execute('create-mitosheet-from-dataframe-output');\">See Full Dataframe in Mito</div> <script> if (window.commands.hasCommand('create-mitosheet-from-dataframe-output')) document.getElementById('8f7072ac-0d76-4dc1-886c-b4041be0a795').style.display = 'flex' </script> <table border=\"1\" class=\"dataframe\">\n",
       "  <thead>\n",
       "    <tr style=\"text-align: right;\">\n",
       "      <th></th>\n",
       "      <th>Age</th>\n",
       "      <th>Na_to_K</th>\n",
       "      <th>Drug</th>\n",
       "      <th>Sex_M</th>\n",
       "      <th>BP_LOW</th>\n",
       "      <th>BP_NORMAL</th>\n",
       "      <th>Cholesterol_NORMAL</th>\n",
       "    </tr>\n",
       "  </thead>\n",
       "  <tbody>\n",
       "    <tr>\n",
       "      <th>0</th>\n",
       "      <td>23</td>\n",
       "      <td>25.355</td>\n",
       "      <td>4</td>\n",
       "      <td>0</td>\n",
       "      <td>0</td>\n",
       "      <td>0</td>\n",
       "      <td>0</td>\n",
       "    </tr>\n",
       "    <tr>\n",
       "      <th>1</th>\n",
       "      <td>47</td>\n",
       "      <td>13.093</td>\n",
       "      <td>2</td>\n",
       "      <td>1</td>\n",
       "      <td>1</td>\n",
       "      <td>0</td>\n",
       "      <td>0</td>\n",
       "    </tr>\n",
       "    <tr>\n",
       "      <th>2</th>\n",
       "      <td>47</td>\n",
       "      <td>10.114</td>\n",
       "      <td>2</td>\n",
       "      <td>1</td>\n",
       "      <td>1</td>\n",
       "      <td>0</td>\n",
       "      <td>0</td>\n",
       "    </tr>\n",
       "    <tr>\n",
       "      <th>3</th>\n",
       "      <td>28</td>\n",
       "      <td>7.798</td>\n",
       "      <td>3</td>\n",
       "      <td>0</td>\n",
       "      <td>0</td>\n",
       "      <td>1</td>\n",
       "      <td>0</td>\n",
       "    </tr>\n",
       "    <tr>\n",
       "      <th>4</th>\n",
       "      <td>61</td>\n",
       "      <td>18.043</td>\n",
       "      <td>4</td>\n",
       "      <td>0</td>\n",
       "      <td>1</td>\n",
       "      <td>0</td>\n",
       "      <td>0</td>\n",
       "    </tr>\n",
       "  </tbody>\n",
       "</table></div>"
      ],
      "text/plain": [
       "   Age  Na_to_K  Drug  Sex_M  BP_LOW  BP_NORMAL  Cholesterol_NORMAL\n",
       "0   23   25.355     4      0       0          0                   0\n",
       "1   47   13.093     2      1       1          0                   0\n",
       "2   47   10.114     2      1       1          0                   0\n",
       "3   28    7.798     3      0       0          1                   0\n",
       "4   61   18.043     4      0       1          0                   0"
      ]
     },
     "execution_count": 14,
     "metadata": {},
     "output_type": "execute_result"
    }
   ],
   "source": [
    "data_with_dummies.head()"
   ]
  },
  {
   "cell_type": "code",
   "execution_count": 15,
   "id": "c8a6cd25",
   "metadata": {
    "scrolled": false
   },
   "outputs": [
    {
     "data": {
      "image/png": "[encoded data removed]",
      "text/plain": [
       "<Figure size 864x648 with 2 Axes>"
      ]
     },
     "metadata": {},
     "output_type": "display_data"
    }
   ],
   "source": [
    "plt.figure(figsize=(12, 9));\n",
    "correlation_matrix = data_with_dummies.corr().round(2);\n",
    "sns.heatmap(correlation_matrix, cmap=\"YlGnBu\", annot=True);"
   ]
  },
  {
   "cell_type": "markdown",
   "id": "6fa93fef",
   "metadata": {},
   "source": [
    "We can see high correlation between drug and Na_to_K"
   ]
  },
  {
   "cell_type": "markdown",
   "id": "b46c9ab4",
   "metadata": {},
   "source": [
    "#### Let's check also VIF"
   ]
  },
  {
   "cell_type": "code",
   "execution_count": 16,
   "id": "3663c25c",
   "metadata": {},
   "outputs": [
    {
     "data": {
      "text/html": [
       "<div><div id=20120a1f-c0a4-458b-8064-f3367e225a4a style=\"display:none; background-color:#9D6CFF; color:white; width:200px; height:30px; padding-left:5px; border-radius:4px; flex-direction:row; justify-content:space-around; align-items:center;\" onmouseover=\"this.style.backgroundColor='#BA9BF8'\" onmouseout=\"this.style.backgroundColor='#9D6CFF'\" onclick=\"window.commands?.execute('create-mitosheet-from-dataframe-output');\">See Full Dataframe in Mito</div> <script> if (window.commands.hasCommand('create-mitosheet-from-dataframe-output')) document.getElementById('20120a1f-c0a4-458b-8064-f3367e225a4a').style.display = 'flex' </script> <table border=\"1\" class=\"dataframe\">\n",
       "  <thead>\n",
       "    <tr style=\"text-align: right;\">\n",
       "      <th></th>\n",
       "      <th>Var</th>\n",
       "      <th>Vif</th>\n",
       "    </tr>\n",
       "  </thead>\n",
       "  <tbody>\n",
       "    <tr>\n",
       "      <th>2</th>\n",
       "      <td>Drug</td>\n",
       "      <td>13.12</td>\n",
       "    </tr>\n",
       "    <tr>\n",
       "      <th>1</th>\n",
       "      <td>Na_to_K</td>\n",
       "      <td>9.83</td>\n",
       "    </tr>\n",
       "    <tr>\n",
       "      <th>0</th>\n",
       "      <td>Age</td>\n",
       "      <td>5.17</td>\n",
       "    </tr>\n",
       "    <tr>\n",
       "      <th>5</th>\n",
       "      <td>BP_NORMAL</td>\n",
       "      <td>2.57</td>\n",
       "    </tr>\n",
       "    <tr>\n",
       "      <th>4</th>\n",
       "      <td>BP_LOW</td>\n",
       "      <td>2.30</td>\n",
       "    </tr>\n",
       "    <tr>\n",
       "      <th>3</th>\n",
       "      <td>Sex_M</td>\n",
       "      <td>2.01</td>\n",
       "    </tr>\n",
       "    <tr>\n",
       "      <th>6</th>\n",
       "      <td>Cholesterol_NORMAL</td>\n",
       "      <td>1.86</td>\n",
       "    </tr>\n",
       "  </tbody>\n",
       "</table></div>"
      ],
      "text/plain": [
       "                  Var    Vif\n",
       "2                Drug  13.12\n",
       "1             Na_to_K   9.83\n",
       "0                 Age   5.17\n",
       "5           BP_NORMAL   2.57\n",
       "4              BP_LOW   2.30\n",
       "3               Sex_M   2.01\n",
       "6  Cholesterol_NORMAL   1.86"
      ]
     },
     "execution_count": 16,
     "metadata": {},
     "output_type": "execute_result"
    }
   ],
   "source": [
    "# Function to calculate VIF\n",
    "def calculate_vif(data):\n",
    "    vif_df = pd.DataFrame(columns = ['Var', 'Vif'])\n",
    "    x_var_names = data_with_dummies.columns\n",
    "    for i in range(0, x_var_names.shape[0]):\n",
    "        y = data_with_dummies[x_var_names[i]]\n",
    "        x = data_with_dummies[x_var_names.drop([x_var_names[i]])]\n",
    "        r_squared = sm.OLS(y,x).fit().rsquared\n",
    "        vif = round(1/(1-r_squared),2)\n",
    "        vif_df.loc[i] = [x_var_names[i], vif]\n",
    "    return vif_df.sort_values(by = 'Vif', axis = 0, ascending=False, inplace=False)\n",
    "\n",
    "X=data_with_dummies.drop(['Drug'],axis=1)\n",
    "calculate_vif(X)"
   ]
  },
  {
   "cell_type": "markdown",
   "id": "6d41e6eb",
   "metadata": {},
   "source": [
    "#### Secondary Method"
   ]
  },
  {
   "cell_type": "code",
   "execution_count": 17,
   "id": "df1dac46",
   "metadata": {},
   "outputs": [
    {
     "data": {
      "text/plain": [
       "Index(['Age', 'Na_to_K', 'Drug', 'Sex_M', 'BP_LOW', 'BP_NORMAL',\n",
       "       'Cholesterol_NORMAL'],\n",
       "      dtype='object')"
      ]
     },
     "execution_count": 17,
     "metadata": {},
     "output_type": "execute_result"
    }
   ],
   "source": [
    "variables = data_with_dummies.columns\n",
    "variables"
   ]
  },
  {
   "cell_type": "code",
   "execution_count": 18,
   "id": "4f376129",
   "metadata": {
    "scrolled": false
   },
   "outputs": [
    {
     "data": {
      "text/html": [
       "<div><div id=c07edf43-dc80-4670-aebb-64625366480b style=\"display:none; background-color:#9D6CFF; color:white; width:200px; height:30px; padding-left:5px; border-radius:4px; flex-direction:row; justify-content:space-around; align-items:center;\" onmouseover=\"this.style.backgroundColor='#BA9BF8'\" onmouseout=\"this.style.backgroundColor='#9D6CFF'\" onclick=\"window.commands?.execute('create-mitosheet-from-dataframe-output');\">See Full Dataframe in Mito</div> <script> if (window.commands.hasCommand('create-mitosheet-from-dataframe-output')) document.getElementById('c07edf43-dc80-4670-aebb-64625366480b').style.display = 'flex' </script> <table border=\"1\" class=\"dataframe\">\n",
       "  <thead>\n",
       "    <tr style=\"text-align: right;\">\n",
       "      <th></th>\n",
       "      <th>VIF</th>\n",
       "      <th>Features</th>\n",
       "    </tr>\n",
       "  </thead>\n",
       "  <tbody>\n",
       "    <tr>\n",
       "      <th>0</th>\n",
       "      <td>5.170173</td>\n",
       "      <td>Age</td>\n",
       "    </tr>\n",
       "    <tr>\n",
       "      <th>1</th>\n",
       "      <td>3.827717</td>\n",
       "      <td>Na_to_K</td>\n",
       "    </tr>\n",
       "    <tr>\n",
       "      <th>2</th>\n",
       "      <td>2.003538</td>\n",
       "      <td>Sex_M</td>\n",
       "    </tr>\n",
       "    <tr>\n",
       "      <th>5</th>\n",
       "      <td>1.805006</td>\n",
       "      <td>Cholesterol_NORMAL</td>\n",
       "    </tr>\n",
       "    <tr>\n",
       "      <th>3</th>\n",
       "      <td>1.797654</td>\n",
       "      <td>BP_LOW</td>\n",
       "    </tr>\n",
       "    <tr>\n",
       "      <th>4</th>\n",
       "      <td>1.619725</td>\n",
       "      <td>BP_NORMAL</td>\n",
       "    </tr>\n",
       "  </tbody>\n",
       "</table></div>"
      ],
      "text/plain": [
       "        VIF            Features\n",
       "0  5.170173                 Age\n",
       "1  3.827717             Na_to_K\n",
       "2  2.003538               Sex_M\n",
       "5  1.805006  Cholesterol_NORMAL\n",
       "3  1.797654              BP_LOW\n",
       "4  1.619725           BP_NORMAL"
      ]
     },
     "execution_count": 18,
     "metadata": {},
     "output_type": "execute_result"
    }
   ],
   "source": [
    "from statsmodels.stats.outliers_influence import variance_inflation_factor\n",
    "variables = data_with_dummies[['Age', 'Na_to_K', 'Sex_M', 'BP_LOW', 'BP_NORMAL','Cholesterol_NORMAL']]\n",
    "vif = pd.DataFrame()\n",
    "vif[\"VIF\"] = [variance_inflation_factor(variables.values, i) for i in range(variables.shape[1])]\n",
    "vif[\"Features\"] = variables.columns\n",
    "vif.sort_values(by = 'VIF', axis = 0, ascending=False, inplace=False)"
   ]
  },
  {
   "cell_type": "markdown",
   "id": "1a5c8951",
   "metadata": {},
   "source": [
    "Once we removed the Drug \"feature\" we can see the results were better of course."
   ]
  },
  {
   "cell_type": "markdown",
   "id": "f3db90f8",
   "metadata": {},
   "source": [
    "***\n",
    "### Declare the inputs and the targets"
   ]
  },
  {
   "cell_type": "code",
   "execution_count": 19,
   "id": "97b90a3a",
   "metadata": {},
   "outputs": [
    {
     "data": {
      "text/html": [
       "<div><div id=74353726-b9ff-409c-9c7d-bd35e98e450c style=\"display:none; background-color:#9D6CFF; color:white; width:200px; height:30px; padding-left:5px; border-radius:4px; flex-direction:row; justify-content:space-around; align-items:center;\" onmouseover=\"this.style.backgroundColor='#BA9BF8'\" onmouseout=\"this.style.backgroundColor='#9D6CFF'\" onclick=\"window.commands?.execute('create-mitosheet-from-dataframe-output');\">See Full Dataframe in Mito</div> <script> if (window.commands.hasCommand('create-mitosheet-from-dataframe-output')) document.getElementById('74353726-b9ff-409c-9c7d-bd35e98e450c').style.display = 'flex' </script> <table border=\"1\" class=\"dataframe\">\n",
       "  <thead>\n",
       "    <tr style=\"text-align: right;\">\n",
       "      <th></th>\n",
       "      <th>Age</th>\n",
       "      <th>Na_to_K</th>\n",
       "      <th>Drug</th>\n",
       "      <th>Sex_M</th>\n",
       "      <th>BP_LOW</th>\n",
       "      <th>BP_NORMAL</th>\n",
       "      <th>Cholesterol_NORMAL</th>\n",
       "    </tr>\n",
       "  </thead>\n",
       "  <tbody>\n",
       "    <tr>\n",
       "      <th>0</th>\n",
       "      <td>23</td>\n",
       "      <td>25.355</td>\n",
       "      <td>4</td>\n",
       "      <td>0</td>\n",
       "      <td>0</td>\n",
       "      <td>0</td>\n",
       "      <td>0</td>\n",
       "    </tr>\n",
       "    <tr>\n",
       "      <th>1</th>\n",
       "      <td>47</td>\n",
       "      <td>13.093</td>\n",
       "      <td>2</td>\n",
       "      <td>1</td>\n",
       "      <td>1</td>\n",
       "      <td>0</td>\n",
       "      <td>0</td>\n",
       "    </tr>\n",
       "  </tbody>\n",
       "</table></div>"
      ],
      "text/plain": [
       "   Age  Na_to_K  Drug  Sex_M  BP_LOW  BP_NORMAL  Cholesterol_NORMAL\n",
       "0   23   25.355     4      0       0          0                   0\n",
       "1   47   13.093     2      1       1          0                   0"
      ]
     },
     "execution_count": 19,
     "metadata": {},
     "output_type": "execute_result"
    }
   ],
   "source": [
    "data_preprocessed = data_with_dummies\n",
    "data_preprocessed.head(2)"
   ]
  },
  {
   "cell_type": "code",
   "execution_count": 20,
   "id": "1bdb95cd",
   "metadata": {},
   "outputs": [],
   "source": [
    "# The target(s) (dependent variable) is 'log price'\n",
    "targets = data_preprocessed['Drug']\n",
    "\n",
    "# The inputs are everything BUT the dependent variable, so we can simply drop it\n",
    "inputs = data_preprocessed.drop(['Drug'],axis=1)"
   ]
  },
  {
   "cell_type": "markdown",
   "id": "60f64bab",
   "metadata": {},
   "source": [
    "\n",
    "#### Check for highly correlated features"
   ]
  },
  {
   "cell_type": "code",
   "execution_count": 21,
   "id": "c4fe4b75",
   "metadata": {},
   "outputs": [],
   "source": [
    "columns = np.full((inputs.corr().shape[0],), True, dtype=bool)\n",
    "for i in range(inputs.corr().shape[0]):\n",
    "    for j in range(i+1, inputs.corr().shape[0]):\n",
    "        if inputs.corr().iloc[i,j] >= 0.9:\n",
    "            if columns[j]:\n",
    "                columns[j] = False\n",
    "selected_columns = inputs.columns[columns]\n",
    "inputs = inputs[selected_columns]"
   ]
  },
  {
   "cell_type": "code",
   "execution_count": 22,
   "id": "e023eedd",
   "metadata": {},
   "outputs": [
    {
     "data": {
      "text/plain": [
       "array(['Age', 'Na_to_K', 'Sex_M', 'BP_LOW', 'BP_NORMAL',\n",
       "       'Cholesterol_NORMAL'], dtype=object)"
      ]
     },
     "execution_count": 22,
     "metadata": {},
     "output_type": "execute_result"
    }
   ],
   "source": [
    "inputs.columns.values"
   ]
  },
  {
   "cell_type": "markdown",
   "id": "dd459314",
   "metadata": {},
   "source": [
    "**No highly correlated features which needs to be removed**"
   ]
  },
  {
   "cell_type": "markdown",
   "id": "13ca2fe7",
   "metadata": {},
   "source": [
    "#### Check for VarianceThreshold"
   ]
  },
  {
   "cell_type": "code",
   "execution_count": 23,
   "id": "336fad6b",
   "metadata": {},
   "outputs": [],
   "source": [
    "from sklearn.feature_selection import VarianceThreshold"
   ]
  },
  {
   "cell_type": "code",
   "execution_count": 24,
   "id": "e0ca23cb",
   "metadata": {},
   "outputs": [],
   "source": [
    "treshhold = VarianceThreshold(threshold=0)"
   ]
  },
  {
   "cell_type": "code",
   "execution_count": 25,
   "id": "2f2e77d9",
   "metadata": {},
   "outputs": [
    {
     "data": {
      "text/plain": [
       "VarianceThreshold(threshold=0)"
      ]
     },
     "execution_count": 25,
     "metadata": {},
     "output_type": "execute_result"
    }
   ],
   "source": [
    "treshhold.fit(inputs)"
   ]
  },
  {
   "cell_type": "code",
   "execution_count": 26,
   "id": "0a46f1e7",
   "metadata": {},
   "outputs": [
    {
     "data": {
      "text/plain": [
       "array([ True,  True,  True,  True,  True,  True])"
      ]
     },
     "execution_count": 26,
     "metadata": {},
     "output_type": "execute_result"
    }
   ],
   "source": [
    "treshhold.get_support()"
   ]
  },
  {
   "cell_type": "markdown",
   "id": "6221251c",
   "metadata": {},
   "source": [
    "#### Another check using featurewiz"
   ]
  },
  {
   "cell_type": "code",
   "execution_count": 27,
   "id": "a05882ae",
   "metadata": {
    "scrolled": false
   },
   "outputs": [],
   "source": [
    "# !pip install featurewiz"
   ]
  },
  {
   "cell_type": "code",
   "execution_count": 28,
   "id": "ae97c0a7",
   "metadata": {},
   "outputs": [
    {
     "name": "stdout",
     "output_type": "stream",
     "text": [
      "Imported featurewiz. Version = 0.1.32. Now with dask, XGBoost-GPU and feather-format.\n",
      "outputs = featurewiz(dataname, target, corr_limit=0.70, verbose=2, sep=',', \n",
      "\t\theader=0, test_data='',feature_engg='', category_encoders='',\n",
      "\t\tdask_xgboost_flag=False, nrows=None)\n",
      "Create new features via 'feature_engg' flag : ['interactions','groupby','target']\n",
      "                                \n"
     ]
    }
   ],
   "source": [
    "from sklearn.experimental import enable_hist_gradient_boosting\n",
    "from sklearn.ensemble import HistGradientBoostingRegressor\n",
    "from featurewiz import featurewiz"
   ]
  },
  {
   "cell_type": "code",
   "execution_count": 29,
   "id": "a084e8ae",
   "metadata": {},
   "outputs": [
    {
     "name": "stdout",
     "output_type": "stream",
     "text": [
      "############################################################################################\n",
      "############       F A S T   F E A T U R E  E N G G    A N D    S E L E C T I O N ! ########\n",
      "# Be judicious with featurewiz. Don't use it to create too many un-interpretable features! #\n",
      "############################################################################################\n",
      "Skipping feature engineering since no feature_engg input...\n",
      "Skipping category encoding since no category encoders specified in input...\n",
      "**INFO: featurewiz can now read feather formatted files. Loading train data...\n",
      "    Shape of your Data Set loaded: (200, 7)\n",
      "    Loaded train data. Shape = (200, 7)\n",
      "No test data filename given...\n",
      "#######################################################################################\n",
      "######################## C L A S S I F Y I N G  V A R I A B L E S  ####################\n",
      "#######################################################################################\n",
      "Classifying variables in data set...\n",
      "    6 Predictors classified...\n",
      "        No variables were removed since no ID or low-information variables found in data set\n",
      "No GPU active on this device\n",
      "    Tuning XGBoost using CPU hyper-parameters. This will take time...\n",
      "    After removing redundant variables from further processing, features left = 6\n",
      "No interactions created for categorical vars since feature engg does not specify it\n",
      "#### Single_Label Multi_Classification problem ####\n",
      "#######################################################################################\n",
      "#####  Searching for Uncorrelated List Of Variables (SULOV) in 6 features ############\n",
      "#######################################################################################\n",
      "    there are no null values in dataset...\n"
     ]
    },
    {
     "data": {
      "image/png": "[encoded data removed]",
      "text/plain": [
       "<Figure size 1080x360 with 1 Axes>"
      ]
     },
     "metadata": {},
     "output_type": "display_data"
    },
    {
     "name": "stdout",
     "output_type": "stream",
     "text": [
      "Time taken for SULOV method = 1 seconds\n",
      "    Adding 0 categorical variables to reduced numeric variables  of 6\n",
      "Final list of selected vars after SULOV = 6\n",
      "Readying dataset for Recursive XGBoost by converting all features to numeric...\n",
      "#######################################################################################\n",
      "#####    R E C U R S I V E   X G B O O S T : F E A T U R E   S E L E C T I O N  #######\n",
      "#######################################################################################\n",
      "    using regular XGBoost\n",
      "Train and Test loaded into Dask dataframes successfully after feature_engg completed\n",
      "Current number of predictors = 6 \n",
      "    XGBoost version: 1.6.0\n",
      "Number of booster rounds = 100\n",
      "        using 6 variables...\n",
      "Regular XGBoost is crashing due to: dlsym(0x213773b20, XGDMatrixCreateFromDense): symbol not found\n",
      "dlsym(0x213773b20, XGDMatrixCreateFromDense): symbol not found\n",
      "Regular XGBoost is crashing due to local variable 'dtrain' referenced before assignment. Returning with currently selected features...\n",
      "            Total time taken for XGBoost feature selection = 0 seconds\n",
      "No ID variables [] are selected since they are not considered important for modeling\n",
      "#######################################################################################\n",
      "#####          F E A T U R E   S E L E C T I O N   C O M P L E T E D            #######\n",
      "#######################################################################################\n",
      "Selected 6 important features:\n",
      "['Na_to_K', 'Sex_M', 'BP_LOW', 'BP_NORMAL', 'Cholesterol_NORMAL', 'Age']\n",
      "\n",
      "    Time taken = 1 seconds\n",
      "    Reverted column names to original names given in train dataset\n",
      "Returning list of 6 important features and a dataframe.\n"
     ]
    }
   ],
   "source": [
    "out1, out2 = featurewiz(data_with_dummies, 'Drug', corr_limit=0.7, verbose=0)"
   ]
  },
  {
   "cell_type": "code",
   "execution_count": 30,
   "id": "b6fd3885",
   "metadata": {},
   "outputs": [
    {
     "data": {
      "text/html": [
       "<div><div id=7667e480-f029-45c7-ae2f-417c8b5799ea style=\"display:none; background-color:#9D6CFF; color:white; width:200px; height:30px; padding-left:5px; border-radius:4px; flex-direction:row; justify-content:space-around; align-items:center;\" onmouseover=\"this.style.backgroundColor='#BA9BF8'\" onmouseout=\"this.style.backgroundColor='#9D6CFF'\" onclick=\"window.commands?.execute('create-mitosheet-from-dataframe-output');\">See Full Dataframe in Mito</div> <script> if (window.commands.hasCommand('create-mitosheet-from-dataframe-output')) document.getElementById('7667e480-f029-45c7-ae2f-417c8b5799ea').style.display = 'flex' </script> <table border=\"1\" class=\"dataframe\">\n",
       "  <thead>\n",
       "    <tr style=\"text-align: right;\">\n",
       "      <th></th>\n",
       "      <th>Na_to_K</th>\n",
       "      <th>Sex_M</th>\n",
       "      <th>BP_LOW</th>\n",
       "      <th>BP_NORMAL</th>\n",
       "      <th>Cholesterol_NORMAL</th>\n",
       "      <th>Age</th>\n",
       "      <th>Drug</th>\n",
       "    </tr>\n",
       "  </thead>\n",
       "  <tbody>\n",
       "    <tr>\n",
       "      <th>0</th>\n",
       "      <td>25.355</td>\n",
       "      <td>0</td>\n",
       "      <td>0</td>\n",
       "      <td>0</td>\n",
       "      <td>0</td>\n",
       "      <td>23</td>\n",
       "      <td>4</td>\n",
       "    </tr>\n",
       "    <tr>\n",
       "      <th>1</th>\n",
       "      <td>13.093</td>\n",
       "      <td>1</td>\n",
       "      <td>1</td>\n",
       "      <td>0</td>\n",
       "      <td>0</td>\n",
       "      <td>47</td>\n",
       "      <td>2</td>\n",
       "    </tr>\n",
       "    <tr>\n",
       "      <th>2</th>\n",
       "      <td>10.114</td>\n",
       "      <td>1</td>\n",
       "      <td>1</td>\n",
       "      <td>0</td>\n",
       "      <td>0</td>\n",
       "      <td>47</td>\n",
       "      <td>2</td>\n",
       "    </tr>\n",
       "    <tr>\n",
       "      <th>3</th>\n",
       "      <td>7.798</td>\n",
       "      <td>0</td>\n",
       "      <td>0</td>\n",
       "      <td>1</td>\n",
       "      <td>0</td>\n",
       "      <td>28</td>\n",
       "      <td>3</td>\n",
       "    </tr>\n",
       "    <tr>\n",
       "      <th>4</th>\n",
       "      <td>18.043</td>\n",
       "      <td>0</td>\n",
       "      <td>1</td>\n",
       "      <td>0</td>\n",
       "      <td>0</td>\n",
       "      <td>61</td>\n",
       "      <td>4</td>\n",
       "    </tr>\n",
       "  </tbody>\n",
       "</table></div>"
      ],
      "text/plain": [
       "   Na_to_K  Sex_M  BP_LOW  BP_NORMAL  Cholesterol_NORMAL  Age  Drug\n",
       "0   25.355      0       0          0                   0   23     4\n",
       "1   13.093      1       1          0                   0   47     2\n",
       "2   10.114      1       1          0                   0   47     2\n",
       "3    7.798      0       0          1                   0   28     3\n",
       "4   18.043      0       1          0                   0   61     4"
      ]
     },
     "execution_count": 30,
     "metadata": {},
     "output_type": "execute_result"
    }
   ],
   "source": [
    "out2.head()"
   ]
  },
  {
   "cell_type": "markdown",
   "id": "5d0f12e6",
   "metadata": {},
   "source": [
    "**From all the checks we have created, we can use all 6 features for our model**"
   ]
  },
  {
   "cell_type": "code",
   "execution_count": 31,
   "id": "33b53491",
   "metadata": {},
   "outputs": [
    {
     "name": "stdout",
     "output_type": "stream",
     "text": [
      "\n",
      "inputs:\n",
      "   Age  Na_to_K  Sex_M  BP_LOW  BP_NORMAL  Cholesterol_NORMAL\n",
      "0   23   25.355      0       0          0                   0\n",
      "1   47   13.093      1       1          0                   0\n",
      "----------------------\n",
      "Targets: \n",
      "0    4\n",
      "1    2\n",
      "2    2\n",
      "3    3\n",
      "Name: Drug, dtype: int64\n",
      "\n"
     ]
    }
   ],
   "source": [
    "print(f'''\n",
    "inputs:\n",
    "{inputs.head(2)}\n",
    "----------------------\n",
    "Targets: \n",
    "{targets.head(4)}\n",
    "''')"
   ]
  },
  {
   "cell_type": "markdown",
   "id": "4aa4a263",
   "metadata": {
    "colab_type": "text",
    "id": "YvxIPVyMhmKp"
   },
   "source": [
    "## Splitting the dataset into the Training set and Test set"
   ]
  },
  {
   "cell_type": "code",
   "execution_count": 32,
   "id": "5ca15a9a",
   "metadata": {
    "colab": {},
    "colab_type": "code",
    "id": "AVzJWAXIhxoC"
   },
   "outputs": [],
   "source": [
    "from sklearn.model_selection import train_test_split\n",
    "X_train, X_test, y_train, y_test = train_test_split(inputs, targets, test_size = 0.25, random_state = 0)"
   ]
  },
  {
   "cell_type": "markdown",
   "id": "b91c7473",
   "metadata": {},
   "source": [
    "### Logistic regression"
   ]
  },
  {
   "cell_type": "code",
   "execution_count": 33,
   "id": "355126ee",
   "metadata": {},
   "outputs": [
    {
     "data": {
      "text/plain": [
       "LogisticRegression(random_state=0)"
      ]
     },
     "execution_count": 33,
     "metadata": {},
     "output_type": "execute_result"
    }
   ],
   "source": [
    "from sklearn.linear_model import LogisticRegression\n",
    "classifier = LogisticRegression(random_state = 0)\n",
    "classifier.fit(X_train, y_train)"
   ]
  },
  {
   "cell_type": "code",
   "execution_count": 34,
   "id": "9b634fe7",
   "metadata": {
    "colab": {
     "base_uri": "https://localhost:8080/",
     "height": 1000
    },
    "colab_type": "code",
    "executionInfo": {
     "elapsed": 2112,
     "status": "ok",
     "timestamp": 1588265315506,
     "user": {
      "displayName": "Hadelin de Ponteves",
      "photoUrl": "https://lh3.googleusercontent.com/a-/AOh14GhEuXdT7eQweUmRPW8_laJuPggSK6hfvpl5a6WBaA=s64",
      "userId": "15047218817161520419"
     },
     "user_tz": -240
    },
    "id": "p6VMTb2O4hwM",
    "outputId": "a4f03a97-2942-45cd-f735-f4063277a96c"
   },
   "outputs": [
    {
     "name": "stdout",
     "output_type": "stream",
     "text": [
      "[3]\n"
     ]
    }
   ],
   "source": [
    "# predictions\n",
    "y_pred = classifier.predict(X_test)\n",
    "X_test\n",
    "print(classifier.predict([[79,10.67,0,1,1,0]]))"
   ]
  },
  {
   "cell_type": "code",
   "execution_count": 35,
   "id": "44c4750c",
   "metadata": {
    "colab": {
     "base_uri": "https://localhost:8080/",
     "height": 68
    },
    "colab_type": "code",
    "executionInfo": {
     "elapsed": 2107,
     "status": "ok",
     "timestamp": 1588265315506,
     "user": {
      "displayName": "Hadelin de Ponteves",
      "photoUrl": "https://lh3.googleusercontent.com/a-/AOh14GhEuXdT7eQweUmRPW8_laJuPggSK6hfvpl5a6WBaA=s64",
      "userId": "15047218817161520419"
     },
     "user_tz": -240
    },
    "id": "D6bpZwUiiXic",
    "outputId": "f202fcb3-5882-4d93-e5df-50791185067e"
   },
   "outputs": [
    {
     "name": "stdout",
     "output_type": "stream",
     "text": [
      "[[[47  0]\n",
      "  [ 1  2]]\n",
      "\n",
      " [[32  2]\n",
      "  [ 2 14]]\n",
      "\n",
      " [[21  4]\n",
      "  [ 3 22]]\n",
      "\n",
      " [[44  1]\n",
      "  [ 2  3]]\n",
      "\n",
      " [[47  2]\n",
      "  [ 1  0]]]\n"
     ]
    },
    {
     "data": {
      "text/plain": [
       "0.82"
      ]
     },
     "execution_count": 35,
     "metadata": {},
     "output_type": "execute_result"
    }
   ],
   "source": [
    "# confusion matrix\n",
    "from sklearn.metrics import confusion_matrix, accuracy_score, multilabel_confusion_matrix\n",
    "y_unique = y_test.unique()\n",
    "cm = multilabel_confusion_matrix(y_test, y_pred, labels = y_unique)\n",
    "print(cm)\n",
    "accuracy_score(y_test, y_pred)"
   ]
  },
  {
   "cell_type": "markdown",
   "id": "43220256",
   "metadata": {},
   "source": [
    "***\n",
    "### KNN"
   ]
  },
  {
   "cell_type": "code",
   "execution_count": 36,
   "id": "3ccb2f47",
   "metadata": {},
   "outputs": [
    {
     "data": {
      "text/plain": [
       "KNeighborsClassifier()"
      ]
     },
     "execution_count": 36,
     "metadata": {},
     "output_type": "execute_result"
    }
   ],
   "source": [
    "from sklearn.neighbors import KNeighborsClassifier\n",
    "classifier = KNeighborsClassifier(n_neighbors = 5, metric = 'minkowski', p = 2)\n",
    "classifier.fit(X_train, y_train)"
   ]
  },
  {
   "cell_type": "code",
   "execution_count": 37,
   "id": "05d59477",
   "metadata": {},
   "outputs": [],
   "source": [
    "y_pred = classifier.predict(X_test)"
   ]
  },
  {
   "cell_type": "code",
   "execution_count": 38,
   "id": "22fec83d",
   "metadata": {},
   "outputs": [
    {
     "name": "stdout",
     "output_type": "stream",
     "text": [
      "[[[46  1]\n",
      "  [ 3  0]]\n",
      "\n",
      " [[31  3]\n",
      "  [10  6]]\n",
      "\n",
      " [[25  0]\n",
      "  [ 2 23]]\n",
      "\n",
      " [[38  7]\n",
      "  [ 0  5]]\n",
      "\n",
      " [[45  4]\n",
      "  [ 0  1]]]\n"
     ]
    },
    {
     "data": {
      "text/plain": [
       "0.7"
      ]
     },
     "execution_count": 38,
     "metadata": {},
     "output_type": "execute_result"
    }
   ],
   "source": [
    "# confusion matrix\n",
    "from sklearn.metrics import confusion_matrix, accuracy_score, multilabel_confusion_matrix\n",
    "y_unique = y_test.unique()\n",
    "cm = multilabel_confusion_matrix(y_test, y_pred, labels = y_unique)\n",
    "print(cm)\n",
    "accuracy_score(y_test, y_pred)"
   ]
  },
  {
   "cell_type": "markdown",
   "id": "19ad6cdc",
   "metadata": {},
   "source": [
    "***\n",
    "### SVM"
   ]
  },
  {
   "cell_type": "code",
   "execution_count": 39,
   "id": "fbc75510",
   "metadata": {},
   "outputs": [
    {
     "data": {
      "text/plain": [
       "SVC(random_state=0)"
      ]
     },
     "execution_count": 39,
     "metadata": {},
     "output_type": "execute_result"
    }
   ],
   "source": [
    "from sklearn.svm import SVC\n",
    "classifier = SVC(kernel = 'rbf', random_state = 0)\n",
    "classifier.fit(X_train, y_train)"
   ]
  },
  {
   "cell_type": "code",
   "execution_count": 40,
   "id": "d543e897",
   "metadata": {},
   "outputs": [],
   "source": [
    "y_pred = classifier.predict(X_test)"
   ]
  },
  {
   "cell_type": "code",
   "execution_count": 41,
   "id": "86bbd283",
   "metadata": {},
   "outputs": [
    {
     "name": "stdout",
     "output_type": "stream",
     "text": [
      "[[[47  0]\n",
      "  [ 3  0]]\n",
      "\n",
      " [[26  8]\n",
      "  [ 0 16]]\n",
      "\n",
      " [[24  1]\n",
      "  [ 0 25]]\n",
      "\n",
      " [[45  0]\n",
      "  [ 5  0]]\n",
      "\n",
      " [[49  0]\n",
      "  [ 1  0]]]\n"
     ]
    },
    {
     "data": {
      "text/plain": [
       "0.82"
      ]
     },
     "execution_count": 41,
     "metadata": {},
     "output_type": "execute_result"
    }
   ],
   "source": [
    "# confusion matrix\n",
    "from sklearn.metrics import confusion_matrix, accuracy_score, multilabel_confusion_matrix\n",
    "y_unique = y_test.unique()\n",
    "cm = multilabel_confusion_matrix(y_test, y_pred, labels = y_unique)\n",
    "print(cm)\n",
    "accuracy_score(y_test, y_pred)"
   ]
  },
  {
   "cell_type": "markdown",
   "id": "c5348ce6",
   "metadata": {},
   "source": [
    "***\n",
    "### Naive bayes"
   ]
  },
  {
   "cell_type": "code",
   "execution_count": 42,
   "id": "823d583c",
   "metadata": {},
   "outputs": [
    {
     "data": {
      "text/plain": [
       "GaussianNB()"
      ]
     },
     "execution_count": 42,
     "metadata": {},
     "output_type": "execute_result"
    }
   ],
   "source": [
    "from sklearn.naive_bayes import GaussianNB\n",
    "classifier = GaussianNB()\n",
    "classifier.fit(X_train, y_train)"
   ]
  },
  {
   "cell_type": "code",
   "execution_count": 43,
   "id": "4f392251",
   "metadata": {},
   "outputs": [],
   "source": [
    "y_pred = classifier.predict(X_test)"
   ]
  },
  {
   "cell_type": "code",
   "execution_count": 44,
   "id": "47eb646d",
   "metadata": {},
   "outputs": [
    {
     "name": "stdout",
     "output_type": "stream",
     "text": [
      "[[[44  3]\n",
      "  [ 0  3]]\n",
      "\n",
      " [[33  1]\n",
      "  [ 2 14]]\n",
      "\n",
      " [[23  2]\n",
      "  [ 9 16]]\n",
      "\n",
      " [[42  3]\n",
      "  [ 0  5]]\n",
      "\n",
      " [[47  2]\n",
      "  [ 0  1]]]\n"
     ]
    },
    {
     "data": {
      "text/plain": [
       "0.78"
      ]
     },
     "execution_count": 44,
     "metadata": {},
     "output_type": "execute_result"
    }
   ],
   "source": [
    "# confusion matrix\n",
    "from sklearn.metrics import confusion_matrix, accuracy_score, multilabel_confusion_matrix\n",
    "y_unique = y_test.unique()\n",
    "cm = multilabel_confusion_matrix(y_test, y_pred, labels = y_unique)\n",
    "print(cm)\n",
    "accuracy_score(y_test, y_pred)"
   ]
  },
  {
   "cell_type": "markdown",
   "id": "27376627",
   "metadata": {},
   "source": [
    "***\n",
    "### Decision Tree"
   ]
  },
  {
   "cell_type": "code",
   "execution_count": 45,
   "id": "a872453c",
   "metadata": {},
   "outputs": [
    {
     "data": {
      "text/plain": [
       "DecisionTreeClassifier(criterion='entropy', random_state=0)"
      ]
     },
     "execution_count": 45,
     "metadata": {},
     "output_type": "execute_result"
    }
   ],
   "source": [
    "from sklearn.tree import DecisionTreeClassifier\n",
    "classifier = DecisionTreeClassifier(criterion = 'entropy', random_state = 0)\n",
    "classifier.fit(X_train, y_train)"
   ]
  },
  {
   "cell_type": "code",
   "execution_count": 46,
   "id": "5f6cd364",
   "metadata": {},
   "outputs": [],
   "source": [
    "y_pred = classifier.predict(X_test)"
   ]
  },
  {
   "cell_type": "code",
   "execution_count": 47,
   "id": "2c8da301",
   "metadata": {},
   "outputs": [
    {
     "name": "stdout",
     "output_type": "stream",
     "text": [
      "[[[47  0]\n",
      "  [ 0  3]]\n",
      "\n",
      " [[34  0]\n",
      "  [ 0 16]]\n",
      "\n",
      " [[25  0]\n",
      "  [ 0 25]]\n",
      "\n",
      " [[45  0]\n",
      "  [ 0  5]]\n",
      "\n",
      " [[49  0]\n",
      "  [ 0  1]]]\n"
     ]
    },
    {
     "data": {
      "text/plain": [
       "1.0"
      ]
     },
     "execution_count": 47,
     "metadata": {},
     "output_type": "execute_result"
    }
   ],
   "source": [
    "# confusion matrix\n",
    "from sklearn.metrics import confusion_matrix, accuracy_score, multilabel_confusion_matrix\n",
    "y_unique = y_test.unique()\n",
    "cm = multilabel_confusion_matrix(y_test, y_pred, labels = y_unique)\n",
    "print(cm)\n",
    "accuracy_score(y_test, y_pred)"
   ]
  },
  {
   "cell_type": "markdown",
   "id": "3ad04459",
   "metadata": {},
   "source": [
    "Seems like we have an overfitting model here which is not recommanded."
   ]
  },
  {
   "cell_type": "markdown",
   "id": "abd8cfa1",
   "metadata": {},
   "source": [
    "***\n",
    "### Random Forest"
   ]
  },
  {
   "cell_type": "code",
   "execution_count": 48,
   "id": "839f1802",
   "metadata": {},
   "outputs": [
    {
     "data": {
      "text/plain": [
       "RandomForestClassifier(criterion='entropy', n_estimators=5, random_state=0)"
      ]
     },
     "execution_count": 48,
     "metadata": {},
     "output_type": "execute_result"
    }
   ],
   "source": [
    "from sklearn.ensemble import RandomForestClassifier\n",
    "classifier = RandomForestClassifier(n_estimators = 5, criterion = 'entropy', random_state = 0)\n",
    "classifier.fit(X_train, y_train)"
   ]
  },
  {
   "cell_type": "code",
   "execution_count": 49,
   "id": "763382fc",
   "metadata": {},
   "outputs": [],
   "source": [
    "y_pred = classifier.predict(X_test)"
   ]
  },
  {
   "cell_type": "code",
   "execution_count": 50,
   "id": "6deccdd5",
   "metadata": {},
   "outputs": [
    {
     "name": "stdout",
     "output_type": "stream",
     "text": [
      "[[[47  0]\n",
      "  [ 0  3]]\n",
      "\n",
      " [[34  0]\n",
      "  [ 0 16]]\n",
      "\n",
      " [[25  0]\n",
      "  [ 0 25]]\n",
      "\n",
      " [[45  0]\n",
      "  [ 0  5]]\n",
      "\n",
      " [[49  0]\n",
      "  [ 0  1]]]\n"
     ]
    },
    {
     "data": {
      "text/plain": [
       "1.0"
      ]
     },
     "execution_count": 50,
     "metadata": {},
     "output_type": "execute_result"
    }
   ],
   "source": [
    "# confusion matrix\n",
    "from sklearn.metrics import confusion_matrix, accuracy_score, multilabel_confusion_matrix\n",
    "y_unique = y_test.unique()\n",
    "cm = multilabel_confusion_matrix(y_test, y_pred, labels = y_unique)\n",
    "print(cm)\n",
    "accuracy_score(y_test, y_pred)"
   ]
  },
  {
   "cell_type": "markdown",
   "id": "c7e2d279",
   "metadata": {},
   "source": [
    "Seems like we have an overfitting model here which is not recommanded."
   ]
  },
  {
   "cell_type": "markdown",
   "id": "0748c72e",
   "metadata": {},
   "source": [
    "***"
   ]
  },
  {
   "cell_type": "code",
   "execution_count": null,
   "id": "30f4ebc5",
   "metadata": {},
   "outputs": [],
   "source": []
  }
 ],
 "metadata": {
  "kernelspec": {
   "display_name": "Python 3 (ipykernel)",
   "language": "python",
   "name": "python3"
  },
  "language_info": {
   "codemirror_mode": {
    "name": "ipython",
    "version": 3
   },
   "file_extension": ".py",
   "mimetype": "text/x-python",
   "name": "python",
   "nbconvert_exporter": "python",
   "pygments_lexer": "ipython3",
   "version": "3.9.6"
  }
 },
 "nbformat": 4,
 "nbformat_minor": 5
}
