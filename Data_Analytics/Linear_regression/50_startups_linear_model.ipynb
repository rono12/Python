{
 "cells": [
  {
   "cell_type": "markdown",
   "id": "3e5a0263",
   "metadata": {},
   "source": [
    "## Importing the relevant libraries"
   ]
  },
  {
   "cell_type": "markdown",
   "id": "391b0a07",
   "metadata": {},
   "source": [
    "Dataset: https://www.kaggle.com/datasets/farhanmd29/50-startups"
   ]
  },
  {
   "cell_type": "code",
   "execution_count": 1,
   "id": "a38eadbe",
   "metadata": {},
   "outputs": [],
   "source": [
    "import numpy as np\n",
    "import pandas as pd\n",
    "import statsmodels.api as sm\n",
    "import matplotlib.pyplot as plt\n",
    "from sklearn.linear_model import LinearRegression\n",
    "import seaborn as sns\n",
    "sns.set()"
   ]
  },
  {
   "cell_type": "markdown",
   "id": "9299893b",
   "metadata": {},
   "source": [
    "****\n",
    "### Setting the style and colors"
   ]
  },
  {
   "cell_type": "code",
   "execution_count": 2,
   "id": "b918b143",
   "metadata": {},
   "outputs": [
    {
     "name": "stdout",
     "output_type": "stream",
     "text": [
      "THEME\n"
     ]
    },
    {
     "data": {
      "image/png": "[encoded data removed]",
      "text/plain": [
       "<Figure size 360x72 with 1 Axes>"
      ]
     },
     "metadata": {},
     "output_type": "display_data"
    }
   ],
   "source": [
    "#Lets set the style of all our seaborn based plots\n",
    "plt.style.use(['ggplot'])\n",
    "# Setting the theme of our plots\n",
    "theme = [\"#4a2e36\", \"#82fB6B\",\"#69cc60\",\"#536d19\",\"#99a129\"]\n",
    "print('THEME')\n",
    "sns.palplot(sns.color_palette(theme))\n",
    "palette= sns.set_palette(sns.color_palette(theme))"
   ]
  },
  {
   "cell_type": "markdown",
   "id": "a59d8a77",
   "metadata": {},
   "source": [
    "****\n",
    "### Load dataset and preprocess"
   ]
  },
  {
   "cell_type": "code",
   "execution_count": 3,
   "id": "deda5751",
   "metadata": {},
   "outputs": [
    {
     "data": {
      "text/html": [
       "<style type=\"text/css\">\n",
       "#T_91682_row0_col0 {\n",
       "  background-color: #d5efcf;\n",
       "  color: #000000;\n",
       "}\n",
       "#T_91682_row0_col1 {\n",
       "  background-color: #e6f5e1;\n",
       "  color: #000000;\n",
       "}\n",
       "#T_91682_row0_col2 {\n",
       "  background-color: #00441b;\n",
       "  color: #f1f1f1;\n",
       "}\n",
       "#T_91682_row0_col4, #T_91682_row1_col4, #T_91682_row2_col4 {\n",
       "  background-color: #c3e7bc;\n",
       "  color: #000000;\n",
       "}\n",
       "#T_91682_row1_col0 {\n",
       "  background-color: #d7efd1;\n",
       "  color: #000000;\n",
       "}\n",
       "#T_91682_row1_col1 {\n",
       "  background-color: #ddf2d8;\n",
       "  color: #000000;\n",
       "}\n",
       "#T_91682_row1_col2 {\n",
       "  background-color: #005b25;\n",
       "  color: #f1f1f1;\n",
       "}\n",
       "#T_91682_row2_col0 {\n",
       "  background-color: #dcf2d7;\n",
       "  color: #000000;\n",
       "}\n",
       "#T_91682_row2_col1 {\n",
       "  background-color: #f4fbf1;\n",
       "  color: #000000;\n",
       "}\n",
       "#T_91682_row2_col2 {\n",
       "  background-color: #0b7734;\n",
       "  color: #f1f1f1;\n",
       "}\n",
       "#T_91682_row3_col0 {\n",
       "  background-color: #e2f4dd;\n",
       "  color: #000000;\n",
       "}\n",
       "#T_91682_row3_col1 {\n",
       "  background-color: #edf8e9;\n",
       "  color: #000000;\n",
       "}\n",
       "#T_91682_row3_col2 {\n",
       "  background-color: #1e8741;\n",
       "  color: #f1f1f1;\n",
       "}\n",
       "#T_91682_row3_col4 {\n",
       "  background-color: #caeac3;\n",
       "  color: #000000;\n",
       "}\n",
       "#T_91682_row4_col0 {\n",
       "  background-color: #e3f4de;\n",
       "  color: #000000;\n",
       "}\n",
       "#T_91682_row4_col1 {\n",
       "  background-color: #f7fcf5;\n",
       "  color: #000000;\n",
       "}\n",
       "#T_91682_row4_col2 {\n",
       "  background-color: #2a924a;\n",
       "  color: #f1f1f1;\n",
       "}\n",
       "#T_91682_row4_col4 {\n",
       "  background-color: #d4eece;\n",
       "  color: #000000;\n",
       "}\n",
       "</style>\n",
       "<table id=\"T_91682_\">\n",
       "  <thead>\n",
       "    <tr>\n",
       "      <th class=\"blank level0\" >&nbsp;</th>\n",
       "      <th class=\"col_heading level0 col0\" >R&D Spend</th>\n",
       "      <th class=\"col_heading level0 col1\" >Administration</th>\n",
       "      <th class=\"col_heading level0 col2\" >Marketing Spend</th>\n",
       "      <th class=\"col_heading level0 col3\" >State</th>\n",
       "      <th class=\"col_heading level0 col4\" >Profit</th>\n",
       "    </tr>\n",
       "  </thead>\n",
       "  <tbody>\n",
       "    <tr>\n",
       "      <th id=\"T_91682_level0_row0\" class=\"row_heading level0 row0\" >0</th>\n",
       "      <td id=\"T_91682_row0_col0\" class=\"data row0 col0\" >165349.200000</td>\n",
       "      <td id=\"T_91682_row0_col1\" class=\"data row0 col1\" >136897.800000</td>\n",
       "      <td id=\"T_91682_row0_col2\" class=\"data row0 col2\" >471784.100000</td>\n",
       "      <td id=\"T_91682_row0_col3\" class=\"data row0 col3\" >New York</td>\n",
       "      <td id=\"T_91682_row0_col4\" class=\"data row0 col4\" >192261.830000</td>\n",
       "    </tr>\n",
       "    <tr>\n",
       "      <th id=\"T_91682_level0_row1\" class=\"row_heading level0 row1\" >1</th>\n",
       "      <td id=\"T_91682_row1_col0\" class=\"data row1 col0\" >162597.700000</td>\n",
       "      <td id=\"T_91682_row1_col1\" class=\"data row1 col1\" >151377.590000</td>\n",
       "      <td id=\"T_91682_row1_col2\" class=\"data row1 col2\" >443898.530000</td>\n",
       "      <td id=\"T_91682_row1_col3\" class=\"data row1 col3\" >California</td>\n",
       "      <td id=\"T_91682_row1_col4\" class=\"data row1 col4\" >191792.060000</td>\n",
       "    </tr>\n",
       "    <tr>\n",
       "      <th id=\"T_91682_level0_row2\" class=\"row_heading level0 row2\" >2</th>\n",
       "      <td id=\"T_91682_row2_col0\" class=\"data row2 col0\" >153441.510000</td>\n",
       "      <td id=\"T_91682_row2_col1\" class=\"data row2 col1\" >101145.550000</td>\n",
       "      <td id=\"T_91682_row2_col2\" class=\"data row2 col2\" >407934.540000</td>\n",
       "      <td id=\"T_91682_row2_col3\" class=\"data row2 col3\" >Florida</td>\n",
       "      <td id=\"T_91682_row2_col4\" class=\"data row2 col4\" >191050.390000</td>\n",
       "    </tr>\n",
       "    <tr>\n",
       "      <th id=\"T_91682_level0_row3\" class=\"row_heading level0 row3\" >3</th>\n",
       "      <td id=\"T_91682_row3_col0\" class=\"data row3 col0\" >144372.410000</td>\n",
       "      <td id=\"T_91682_row3_col1\" class=\"data row3 col1\" >118671.850000</td>\n",
       "      <td id=\"T_91682_row3_col2\" class=\"data row3 col2\" >383199.620000</td>\n",
       "      <td id=\"T_91682_row3_col3\" class=\"data row3 col3\" >New York</td>\n",
       "      <td id=\"T_91682_row3_col4\" class=\"data row3 col4\" >182901.990000</td>\n",
       "    </tr>\n",
       "    <tr>\n",
       "      <th id=\"T_91682_level0_row4\" class=\"row_heading level0 row4\" >4</th>\n",
       "      <td id=\"T_91682_row4_col0\" class=\"data row4 col0\" >142107.340000</td>\n",
       "      <td id=\"T_91682_row4_col1\" class=\"data row4 col1\" >91391.770000</td>\n",
       "      <td id=\"T_91682_row4_col2\" class=\"data row4 col2\" >366168.420000</td>\n",
       "      <td id=\"T_91682_row4_col3\" class=\"data row4 col3\" >Florida</td>\n",
       "      <td id=\"T_91682_row4_col4\" class=\"data row4 col4\" >166187.940000</td>\n",
       "    </tr>\n",
       "  </tbody>\n",
       "</table>\n"
      ],
      "text/plain": [
       "<pandas.io.formats.style.Styler at 0x7fd8d59dcc70>"
      ]
     },
     "execution_count": 3,
     "metadata": {},
     "output_type": "execute_result"
    }
   ],
   "source": [
    "# Load the data from a .csv in the same folder\n",
    "data = pd.read_csv('50_Startups.csv')\n",
    "\n",
    "# Let's explore the top 5 rows of the df\n",
    "data.head().style.background_gradient(cmap='Greens',axis=None)"
   ]
  },
  {
   "cell_type": "code",
   "execution_count": 4,
   "id": "76e2814a",
   "metadata": {},
   "outputs": [
    {
     "data": {
      "text/html": [
       "<style type=\"text/css\">\n",
       "#T_56395_row0_col0, #T_56395_row0_col3, #T_56395_row1_col0, #T_56395_row2_col0, #T_56395_row2_col3, #T_56395_row3_col0 {\n",
       "  background-color: #f7fcf5;\n",
       "  color: #000000;\n",
       "}\n",
       "#T_56395_row0_col1 {\n",
       "  background-color: #ddf2d8;\n",
       "  color: #000000;\n",
       "}\n",
       "#T_56395_row0_col2 {\n",
       "  background-color: #e9f7e5;\n",
       "  color: #000000;\n",
       "}\n",
       "#T_56395_row0_col4, #T_56395_row3_col2 {\n",
       "  background-color: #ebf7e7;\n",
       "  color: #000000;\n",
       "}\n",
       "#T_56395_row0_col5 {\n",
       "  background-color: #def2d9;\n",
       "  color: #000000;\n",
       "}\n",
       "#T_56395_row0_col6 {\n",
       "  background-color: #cfecc9;\n",
       "  color: #000000;\n",
       "}\n",
       "#T_56395_row0_col7 {\n",
       "  background-color: #a9dca3;\n",
       "  color: #000000;\n",
       "}\n",
       "#T_56395_row1_col1 {\n",
       "  background-color: #c6e8bf;\n",
       "  color: #000000;\n",
       "}\n",
       "#T_56395_row1_col2 {\n",
       "  background-color: #eff9eb;\n",
       "  color: #000000;\n",
       "}\n",
       "#T_56395_row1_col3 {\n",
       "  background-color: #e8f6e3;\n",
       "  color: #000000;\n",
       "}\n",
       "#T_56395_row1_col4 {\n",
       "  background-color: #ceecc8;\n",
       "  color: #000000;\n",
       "}\n",
       "#T_56395_row1_col5, #T_56395_row2_col2 {\n",
       "  background-color: #c4e8bd;\n",
       "  color: #000000;\n",
       "}\n",
       "#T_56395_row1_col6 {\n",
       "  background-color: #b6e2af;\n",
       "  color: #000000;\n",
       "}\n",
       "#T_56395_row1_col7 {\n",
       "  background-color: #9cd797;\n",
       "  color: #000000;\n",
       "}\n",
       "#T_56395_row2_col1 {\n",
       "  background-color: #87cd86;\n",
       "  color: #000000;\n",
       "}\n",
       "#T_56395_row2_col4 {\n",
       "  background-color: #c0e6b9;\n",
       "  color: #000000;\n",
       "}\n",
       "#T_56395_row2_col5 {\n",
       "  background-color: #86cc85;\n",
       "  color: #000000;\n",
       "}\n",
       "#T_56395_row2_col6 {\n",
       "  background-color: #3fa85b;\n",
       "  color: #f1f1f1;\n",
       "}\n",
       "#T_56395_row2_col7 {\n",
       "  background-color: #00441b;\n",
       "  color: #f1f1f1;\n",
       "}\n",
       "#T_56395_row3_col1 {\n",
       "  background-color: #cbeac4;\n",
       "  color: #000000;\n",
       "}\n",
       "#T_56395_row3_col3 {\n",
       "  background-color: #f3faf0;\n",
       "  color: #000000;\n",
       "}\n",
       "#T_56395_row3_col4 {\n",
       "  background-color: #d6efd0;\n",
       "  color: #000000;\n",
       "}\n",
       "#T_56395_row3_col5 {\n",
       "  background-color: #ccebc6;\n",
       "  color: #000000;\n",
       "}\n",
       "#T_56395_row3_col6 {\n",
       "  background-color: #bae3b3;\n",
       "  color: #000000;\n",
       "}\n",
       "#T_56395_row3_col7 {\n",
       "  background-color: #95d391;\n",
       "  color: #000000;\n",
       "}\n",
       "</style>\n",
       "<table id=\"T_56395_\">\n",
       "  <thead>\n",
       "    <tr>\n",
       "      <th class=\"blank level0\" >&nbsp;</th>\n",
       "      <th class=\"col_heading level0 col0\" >count</th>\n",
       "      <th class=\"col_heading level0 col1\" >mean</th>\n",
       "      <th class=\"col_heading level0 col2\" >std</th>\n",
       "      <th class=\"col_heading level0 col3\" >min</th>\n",
       "      <th class=\"col_heading level0 col4\" >25%</th>\n",
       "      <th class=\"col_heading level0 col5\" >50%</th>\n",
       "      <th class=\"col_heading level0 col6\" >75%</th>\n",
       "      <th class=\"col_heading level0 col7\" >max</th>\n",
       "    </tr>\n",
       "  </thead>\n",
       "  <tbody>\n",
       "    <tr>\n",
       "      <th id=\"T_56395_level0_row0\" class=\"row_heading level0 row0\" >R&D Spend</th>\n",
       "      <td id=\"T_56395_row0_col0\" class=\"data row0 col0\" >50.000000</td>\n",
       "      <td id=\"T_56395_row0_col1\" class=\"data row0 col1\" >73721.615600</td>\n",
       "      <td id=\"T_56395_row0_col2\" class=\"data row0 col2\" >45902.256482</td>\n",
       "      <td id=\"T_56395_row0_col3\" class=\"data row0 col3\" >0.000000</td>\n",
       "      <td id=\"T_56395_row0_col4\" class=\"data row0 col4\" >39936.370000</td>\n",
       "      <td id=\"T_56395_row0_col5\" class=\"data row0 col5\" >73051.080000</td>\n",
       "      <td id=\"T_56395_row0_col6\" class=\"data row0 col6\" >101602.800000</td>\n",
       "      <td id=\"T_56395_row0_col7\" class=\"data row0 col7\" >165349.200000</td>\n",
       "    </tr>\n",
       "    <tr>\n",
       "      <th id=\"T_56395_level0_row1\" class=\"row_heading level0 row1\" >Administration</th>\n",
       "      <td id=\"T_56395_row1_col0\" class=\"data row1 col0\" >50.000000</td>\n",
       "      <td id=\"T_56395_row1_col1\" class=\"data row1 col1\" >121344.639600</td>\n",
       "      <td id=\"T_56395_row1_col2\" class=\"data row1 col2\" >28017.802755</td>\n",
       "      <td id=\"T_56395_row1_col3\" class=\"data row1 col3\" >51283.140000</td>\n",
       "      <td id=\"T_56395_row1_col4\" class=\"data row1 col4\" >103730.875000</td>\n",
       "      <td id=\"T_56395_row1_col5\" class=\"data row1 col5\" >122699.795000</td>\n",
       "      <td id=\"T_56395_row1_col6\" class=\"data row1 col6\" >144842.180000</td>\n",
       "      <td id=\"T_56395_row1_col7\" class=\"data row1 col7\" >182645.560000</td>\n",
       "    </tr>\n",
       "    <tr>\n",
       "      <th id=\"T_56395_level0_row2\" class=\"row_heading level0 row2\" >Marketing Spend</th>\n",
       "      <td id=\"T_56395_row2_col0\" class=\"data row2 col0\" >50.000000</td>\n",
       "      <td id=\"T_56395_row2_col1\" class=\"data row2 col1\" >211025.097800</td>\n",
       "      <td id=\"T_56395_row2_col2\" class=\"data row2 col2\" >122290.310726</td>\n",
       "      <td id=\"T_56395_row2_col3\" class=\"data row2 col3\" >0.000000</td>\n",
       "      <td id=\"T_56395_row2_col4\" class=\"data row2 col4\" >129300.132500</td>\n",
       "      <td id=\"T_56395_row2_col5\" class=\"data row2 col5\" >212716.240000</td>\n",
       "      <td id=\"T_56395_row2_col6\" class=\"data row2 col6\" >299469.085000</td>\n",
       "      <td id=\"T_56395_row2_col7\" class=\"data row2 col7\" >471784.100000</td>\n",
       "    </tr>\n",
       "    <tr>\n",
       "      <th id=\"T_56395_level0_row3\" class=\"row_heading level0 row3\" >Profit</th>\n",
       "      <td id=\"T_56395_row3_col0\" class=\"data row3 col0\" >50.000000</td>\n",
       "      <td id=\"T_56395_row3_col1\" class=\"data row3 col1\" >112012.639200</td>\n",
       "      <td id=\"T_56395_row3_col2\" class=\"data row3 col2\" >40306.180338</td>\n",
       "      <td id=\"T_56395_row3_col3\" class=\"data row3 col3\" >14681.400000</td>\n",
       "      <td id=\"T_56395_row3_col4\" class=\"data row3 col4\" >90138.902500</td>\n",
       "      <td id=\"T_56395_row3_col5\" class=\"data row3 col5\" >107978.190000</td>\n",
       "      <td id=\"T_56395_row3_col6\" class=\"data row3 col6\" >139765.977500</td>\n",
       "      <td id=\"T_56395_row3_col7\" class=\"data row3 col7\" >192261.830000</td>\n",
       "    </tr>\n",
       "  </tbody>\n",
       "</table>\n"
      ],
      "text/plain": [
       "<pandas.io.formats.style.Styler at 0x7fd8d59dc520>"
      ]
     },
     "execution_count": 4,
     "metadata": {},
     "output_type": "execute_result"
    }
   ],
   "source": [
    "# check for numeric data\n",
    "data.describe().T.style.background_gradient(cmap='Greens',axis=None)"
   ]
  },
  {
   "cell_type": "markdown",
   "id": "f05111a6",
   "metadata": {},
   "source": [
    "***\n",
    "### Missing values"
   ]
  },
  {
   "cell_type": "code",
   "execution_count": 5,
   "id": "0491e065",
   "metadata": {
    "scrolled": true
   },
   "outputs": [
    {
     "name": "stdout",
     "output_type": "stream",
     "text": [
      "Your selected dataframe has 5 columns.\n",
      "There are 0 columns that have missing values.\n"
     ]
    },
    {
     "data": {
      "text/html": [
       "<div><div id=6c6b0269-a4d7-4231-92af-8ecfb38095e2 style=\"display:none; background-color:#9D6CFF; color:white; width:200px; height:30px; padding-left:5px; border-radius:4px; flex-direction:row; justify-content:space-around; align-items:center;\" onmouseover=\"this.style.backgroundColor='#BA9BF8'\" onmouseout=\"this.style.backgroundColor='#9D6CFF'\" onclick=\"window.commands?.execute('create-mitosheet-from-dataframe-output');\">See Full Dataframe in Mito</div> <script> if (window.commands.hasCommand('create-mitosheet-from-dataframe-output')) document.getElementById('6c6b0269-a4d7-4231-92af-8ecfb38095e2').style.display = 'flex' </script> <table border=\"1\" class=\"dataframe\">\n",
       "  <thead>\n",
       "    <tr style=\"text-align: right;\">\n",
       "      <th></th>\n",
       "      <th>Missing Values</th>\n",
       "      <th>% of Total Values</th>\n",
       "    </tr>\n",
       "  </thead>\n",
       "  <tbody>\n",
       "  </tbody>\n",
       "</table></div>"
      ],
      "text/plain": [
       "Empty DataFrame\n",
       "Columns: [Missing Values, % of Total Values]\n",
       "Index: []"
      ]
     },
     "execution_count": 5,
     "metadata": {},
     "output_type": "execute_result"
    }
   ],
   "source": [
    "# https://www.kaggle.com/code/willkoehrsen/start-here-a-gentle-introduction#Exploratory-Data-Analysis\n",
    "# Function to calculate missing values by column# Funct \n",
    "def missing_values_table(df):\n",
    "        # Total missing values\n",
    "        mis_val = df.isnull().sum()\n",
    "        \n",
    "        # Percentage of missing values\n",
    "        mis_val_percent = 100 * df.isnull().sum() / len(df)\n",
    "        \n",
    "        # Make a table with the results\n",
    "        mis_val_table = pd.concat([mis_val, mis_val_percent], axis=1)\n",
    "        \n",
    "        # Rename the columns\n",
    "        mis_val_table_ren_columns = mis_val_table.rename(\n",
    "        columns = {0 : 'Missing Values', 1 : '% of Total Values'})\n",
    "        \n",
    "        # Sort the table by percentage of missing descending\n",
    "        mis_val_table_ren_columns = mis_val_table_ren_columns[\n",
    "            mis_val_table_ren_columns.iloc[:,1] != 0].sort_values(\n",
    "        '% of Total Values', ascending=False).round(1)\n",
    "        \n",
    "        # Print some summary information\n",
    "        print (\"Your selected dataframe has \" + str(df.shape[1]) + \" columns.\\n\"      \n",
    "            \"There are \" + str(mis_val_table_ren_columns.shape[0]) +\n",
    "              \" columns that have missing values.\")\n",
    "        \n",
    "        # Return the dataframe with missing information\n",
    "        return mis_val_table_ren_columns\n",
    "    \n",
    "# Missing values statistics\n",
    "missing_values = missing_values_table(data)\n",
    "missing_values.head(20)"
   ]
  },
  {
   "cell_type": "markdown",
   "id": "5ce142a8",
   "metadata": {},
   "source": [
    "**No missing Values**"
   ]
  },
  {
   "cell_type": "code",
   "execution_count": 6,
   "id": "5547ad6f",
   "metadata": {},
   "outputs": [
    {
     "data": {
      "text/plain": [
       "float64    4\n",
       "object     1\n",
       "dtype: int64"
      ]
     },
     "execution_count": 6,
     "metadata": {},
     "output_type": "execute_result"
    }
   ],
   "source": [
    "data.dtypes.value_counts()"
   ]
  },
  {
   "cell_type": "code",
   "execution_count": 7,
   "id": "302c0bbb",
   "metadata": {},
   "outputs": [
    {
     "data": {
      "text/plain": [
       "State    3\n",
       "dtype: int64"
      ]
     },
     "execution_count": 7,
     "metadata": {},
     "output_type": "execute_result"
    }
   ],
   "source": [
    "data.select_dtypes('object').apply(pd.Series.nunique, axis = 0)"
   ]
  },
  {
   "cell_type": "markdown",
   "id": "5d79a29b",
   "metadata": {},
   "source": [
    "***\n",
    "### Exploring PDFs"
   ]
  },
  {
   "cell_type": "code",
   "execution_count": 8,
   "id": "2904fc58",
   "metadata": {},
   "outputs": [
    {
     "data": {
      "text/plain": [
       "Index(['R&D Spend', 'Administration', 'Marketing Spend', 'Profit'], dtype='object')"
      ]
     },
     "execution_count": 8,
     "metadata": {},
     "output_type": "execute_result"
    }
   ],
   "source": [
    "data.select_dtypes([np.number]).columns"
   ]
  },
  {
   "cell_type": "code",
   "execution_count": 9,
   "id": "02cc391b",
   "metadata": {},
   "outputs": [
    {
     "data": {
      "text/plain": [
       "<matplotlib.axes._subplots.AxesSubplot at 0x7fd8cef64340>"
      ]
     },
     "execution_count": 9,
     "metadata": {},
     "output_type": "execute_result"
    },
    {
     "data": {
      "image/png": "[encoded data removed]",
      "text/plain": [
       "<Figure size 432x288 with 1 Axes>"
      ]
     },
     "metadata": {},
     "output_type": "display_data"
    }
   ],
   "source": [
    "# A great step in the data exploration is to display the probability distribution function (PDF) of a variable\n",
    "# The PDF will show us how that variable is distributed \n",
    "# This makes it very easy to spot anomalies, such as outliers\n",
    "# The PDF is often the basis on which we decide whether we want to transform a feature\n",
    "sns.distplot(data['Profit'])"
   ]
  },
  {
   "cell_type": "code",
   "execution_count": 10,
   "id": "faf6251f",
   "metadata": {},
   "outputs": [],
   "source": [
    "bb=data['Profit'].values"
   ]
  },
  {
   "cell_type": "markdown",
   "id": "6008b581",
   "metadata": {},
   "source": [
    "We can see that in this dataset, we have normal distirbuation and therefore, we do not have to deal with outliers.<br>\n",
    "But for the specific task and project, we will do all the initial steps."
   ]
  },
  {
   "cell_type": "markdown",
   "id": "061203f2",
   "metadata": {},
   "source": [
    "### Dealing with outliers"
   ]
  },
  {
   "cell_type": "markdown",
   "id": "fcb7a583",
   "metadata": {},
   "source": [
    "When we deal with outliers, the best practice is to use the 99th precentile of the variable we want to check.<br>\n",
    "Then, we can create new table without the outliers to normalize our data."
   ]
  },
  {
   "cell_type": "code",
   "execution_count": 11,
   "id": "faf16e1a",
   "metadata": {},
   "outputs": [
    {
     "data": {
      "text/html": [
       "<div><div id=ef451eb0-0153-4759-a05f-0ee39912ebc5 style=\"display:none; background-color:#9D6CFF; color:white; width:200px; height:30px; padding-left:5px; border-radius:4px; flex-direction:row; justify-content:space-around; align-items:center;\" onmouseover=\"this.style.backgroundColor='#BA9BF8'\" onmouseout=\"this.style.backgroundColor='#9D6CFF'\" onclick=\"window.commands?.execute('create-mitosheet-from-dataframe-output');\">See Full Dataframe in Mito</div> <script> if (window.commands.hasCommand('create-mitosheet-from-dataframe-output')) document.getElementById('ef451eb0-0153-4759-a05f-0ee39912ebc5').style.display = 'flex' </script> <table border=\"1\" class=\"dataframe\">\n",
       "  <thead>\n",
       "    <tr style=\"text-align: right;\">\n",
       "      <th></th>\n",
       "      <th>count</th>\n",
       "      <th>unique</th>\n",
       "      <th>top</th>\n",
       "      <th>freq</th>\n",
       "      <th>mean</th>\n",
       "      <th>std</th>\n",
       "      <th>min</th>\n",
       "      <th>25%</th>\n",
       "      <th>50%</th>\n",
       "      <th>75%</th>\n",
       "      <th>max</th>\n",
       "    </tr>\n",
       "  </thead>\n",
       "  <tbody>\n",
       "    <tr>\n",
       "      <th>R&amp;D Spend</th>\n",
       "      <td>49.0</td>\n",
       "      <td>NaN</td>\n",
       "      <td>NaN</td>\n",
       "      <td>NaN</td>\n",
       "      <td>71851.664898</td>\n",
       "      <td>44412.105864</td>\n",
       "      <td>0.0</td>\n",
       "      <td>38558.51</td>\n",
       "      <td>72107.6</td>\n",
       "      <td>100671.96</td>\n",
       "      <td>162597.7</td>\n",
       "    </tr>\n",
       "    <tr>\n",
       "      <th>Administration</th>\n",
       "      <td>49.0</td>\n",
       "      <td>NaN</td>\n",
       "      <td>NaN</td>\n",
       "      <td>NaN</td>\n",
       "      <td>121027.228163</td>\n",
       "      <td>28217.174418</td>\n",
       "      <td>51283.14</td>\n",
       "      <td>103057.49</td>\n",
       "      <td>122616.84</td>\n",
       "      <td>145077.58</td>\n",
       "      <td>182645.56</td>\n",
       "    </tr>\n",
       "    <tr>\n",
       "      <th>Marketing Spend</th>\n",
       "      <td>49.0</td>\n",
       "      <td>NaN</td>\n",
       "      <td>NaN</td>\n",
       "      <td>NaN</td>\n",
       "      <td>205703.48551</td>\n",
       "      <td>117562.764197</td>\n",
       "      <td>0.0</td>\n",
       "      <td>127716.82</td>\n",
       "      <td>210797.67</td>\n",
       "      <td>298664.47</td>\n",
       "      <td>443898.53</td>\n",
       "    </tr>\n",
       "    <tr>\n",
       "      <th>State</th>\n",
       "      <td>49</td>\n",
       "      <td>3</td>\n",
       "      <td>California</td>\n",
       "      <td>17</td>\n",
       "      <td>NaN</td>\n",
       "      <td>NaN</td>\n",
       "      <td>NaN</td>\n",
       "      <td>NaN</td>\n",
       "      <td>NaN</td>\n",
       "      <td>NaN</td>\n",
       "      <td>NaN</td>\n",
       "    </tr>\n",
       "    <tr>\n",
       "      <th>Profit</th>\n",
       "      <td>49.0</td>\n",
       "      <td>NaN</td>\n",
       "      <td>NaN</td>\n",
       "      <td>NaN</td>\n",
       "      <td>110374.900612</td>\n",
       "      <td>39006.799802</td>\n",
       "      <td>14681.4</td>\n",
       "      <td>89949.14</td>\n",
       "      <td>107404.34</td>\n",
       "      <td>134307.35</td>\n",
       "      <td>191792.06</td>\n",
       "    </tr>\n",
       "  </tbody>\n",
       "</table></div>"
      ],
      "text/plain": [
       "                count unique         top freq           mean            std  \\\n",
       "R&D Spend        49.0    NaN         NaN  NaN   71851.664898   44412.105864   \n",
       "Administration   49.0    NaN         NaN  NaN  121027.228163   28217.174418   \n",
       "Marketing Spend  49.0    NaN         NaN  NaN   205703.48551  117562.764197   \n",
       "State              49      3  California   17            NaN            NaN   \n",
       "Profit           49.0    NaN         NaN  NaN  110374.900612   39006.799802   \n",
       "\n",
       "                      min        25%        50%        75%        max  \n",
       "R&D Spend             0.0   38558.51    72107.6  100671.96   162597.7  \n",
       "Administration   51283.14  103057.49  122616.84  145077.58  182645.56  \n",
       "Marketing Spend       0.0  127716.82  210797.67  298664.47  443898.53  \n",
       "State                 NaN        NaN        NaN        NaN        NaN  \n",
       "Profit            14681.4   89949.14  107404.34  134307.35  191792.06  "
      ]
     },
     "execution_count": 11,
     "metadata": {},
     "output_type": "execute_result"
    }
   ],
   "source": [
    "# Let's declare a variable that will be equal to the 99th percentile of the 'Price' variable\n",
    "q = data['Profit'].quantile(0.99)\n",
    "# Then we can create a new df, with the condition that all prices must be below the 99 percentile of 'Price'\n",
    "data_1 = data[data['Profit']<q]\n",
    "# In this way we have essentially removed the top 1% of the data about 'Price'\n",
    "data_1.describe(include='all').T"
   ]
  },
  {
   "cell_type": "code",
   "execution_count": 12,
   "id": "7b715a09",
   "metadata": {},
   "outputs": [
    {
     "data": {
      "text/plain": [
       "<matplotlib.axes._subplots.AxesSubplot at 0x7fd8cf034ee0>"
      ]
     },
     "execution_count": 12,
     "metadata": {},
     "output_type": "execute_result"
    },
    {
     "data": {
      "image/png": "[encoded data removed]",
      "text/plain": [
       "<Figure size 432x288 with 1 Axes>"
      ]
     },
     "metadata": {},
     "output_type": "display_data"
    }
   ],
   "source": [
    "# for this variable we can see it looks normal and therefore we won't test it.\n",
    "sns.distplot(data_1['R&D Spend'])\n",
    "sns.distplot(data_1['Administration'])\n",
    "sns.distplot(data_1['Marketing Spend'])"
   ]
  },
  {
   "cell_type": "markdown",
   "id": "5d0b82f5",
   "metadata": {},
   "source": [
    "We can split the graphs but we can see also all together that look normal"
   ]
  },
  {
   "cell_type": "code",
   "execution_count": 13,
   "id": "4b651a90",
   "metadata": {},
   "outputs": [
    {
     "data": {
      "image/png": "[encoded data removed]",
      "text/plain": [
       "<Figure size 720x720 with 20 Axes>"
      ]
     },
     "metadata": {},
     "output_type": "display_data"
    }
   ],
   "source": [
    "sns.pairplot(data_1)\n",
    "plt.show()"
   ]
  },
  {
   "cell_type": "code",
   "execution_count": 14,
   "id": "613d4638",
   "metadata": {},
   "outputs": [],
   "source": [
    "data_cleaned = data_1.reset_index(drop=True)"
   ]
  },
  {
   "cell_type": "code",
   "execution_count": 15,
   "id": "44664c9c",
   "metadata": {
    "scrolled": true
   },
   "outputs": [
    {
     "data": {
      "text/html": [
       "<div><div id=c82ca4ad-f693-49f5-9150-71326ae1d659 style=\"display:none; background-color:#9D6CFF; color:white; width:200px; height:30px; padding-left:5px; border-radius:4px; flex-direction:row; justify-content:space-around; align-items:center;\" onmouseover=\"this.style.backgroundColor='#BA9BF8'\" onmouseout=\"this.style.backgroundColor='#9D6CFF'\" onclick=\"window.commands?.execute('create-mitosheet-from-dataframe-output');\">See Full Dataframe in Mito</div> <script> if (window.commands.hasCommand('create-mitosheet-from-dataframe-output')) document.getElementById('c82ca4ad-f693-49f5-9150-71326ae1d659').style.display = 'flex' </script> <table border=\"1\" class=\"dataframe\">\n",
       "  <thead>\n",
       "    <tr style=\"text-align: right;\">\n",
       "      <th></th>\n",
       "      <th>count</th>\n",
       "      <th>unique</th>\n",
       "      <th>top</th>\n",
       "      <th>freq</th>\n",
       "      <th>mean</th>\n",
       "      <th>std</th>\n",
       "      <th>min</th>\n",
       "      <th>25%</th>\n",
       "      <th>50%</th>\n",
       "      <th>75%</th>\n",
       "      <th>max</th>\n",
       "    </tr>\n",
       "  </thead>\n",
       "  <tbody>\n",
       "    <tr>\n",
       "      <th>R&amp;D Spend</th>\n",
       "      <td>49.0</td>\n",
       "      <td>NaN</td>\n",
       "      <td>NaN</td>\n",
       "      <td>NaN</td>\n",
       "      <td>71851.664898</td>\n",
       "      <td>44412.105864</td>\n",
       "      <td>0.0</td>\n",
       "      <td>38558.51</td>\n",
       "      <td>72107.6</td>\n",
       "      <td>100671.96</td>\n",
       "      <td>162597.7</td>\n",
       "    </tr>\n",
       "    <tr>\n",
       "      <th>Administration</th>\n",
       "      <td>49.0</td>\n",
       "      <td>NaN</td>\n",
       "      <td>NaN</td>\n",
       "      <td>NaN</td>\n",
       "      <td>121027.228163</td>\n",
       "      <td>28217.174418</td>\n",
       "      <td>51283.14</td>\n",
       "      <td>103057.49</td>\n",
       "      <td>122616.84</td>\n",
       "      <td>145077.58</td>\n",
       "      <td>182645.56</td>\n",
       "    </tr>\n",
       "    <tr>\n",
       "      <th>Marketing Spend</th>\n",
       "      <td>49.0</td>\n",
       "      <td>NaN</td>\n",
       "      <td>NaN</td>\n",
       "      <td>NaN</td>\n",
       "      <td>205703.48551</td>\n",
       "      <td>117562.764197</td>\n",
       "      <td>0.0</td>\n",
       "      <td>127716.82</td>\n",
       "      <td>210797.67</td>\n",
       "      <td>298664.47</td>\n",
       "      <td>443898.53</td>\n",
       "    </tr>\n",
       "    <tr>\n",
       "      <th>State</th>\n",
       "      <td>49</td>\n",
       "      <td>3</td>\n",
       "      <td>California</td>\n",
       "      <td>17</td>\n",
       "      <td>NaN</td>\n",
       "      <td>NaN</td>\n",
       "      <td>NaN</td>\n",
       "      <td>NaN</td>\n",
       "      <td>NaN</td>\n",
       "      <td>NaN</td>\n",
       "      <td>NaN</td>\n",
       "    </tr>\n",
       "    <tr>\n",
       "      <th>Profit</th>\n",
       "      <td>49.0</td>\n",
       "      <td>NaN</td>\n",
       "      <td>NaN</td>\n",
       "      <td>NaN</td>\n",
       "      <td>110374.900612</td>\n",
       "      <td>39006.799802</td>\n",
       "      <td>14681.4</td>\n",
       "      <td>89949.14</td>\n",
       "      <td>107404.34</td>\n",
       "      <td>134307.35</td>\n",
       "      <td>191792.06</td>\n",
       "    </tr>\n",
       "  </tbody>\n",
       "</table></div>"
      ],
      "text/plain": [
       "                count unique         top freq           mean            std  \\\n",
       "R&D Spend        49.0    NaN         NaN  NaN   71851.664898   44412.105864   \n",
       "Administration   49.0    NaN         NaN  NaN  121027.228163   28217.174418   \n",
       "Marketing Spend  49.0    NaN         NaN  NaN   205703.48551  117562.764197   \n",
       "State              49      3  California   17            NaN            NaN   \n",
       "Profit           49.0    NaN         NaN  NaN  110374.900612   39006.799802   \n",
       "\n",
       "                      min        25%        50%        75%        max  \n",
       "R&D Spend             0.0   38558.51    72107.6  100671.96   162597.7  \n",
       "Administration   51283.14  103057.49  122616.84  145077.58  182645.56  \n",
       "Marketing Spend       0.0  127716.82  210797.67  298664.47  443898.53  \n",
       "State                 NaN        NaN        NaN        NaN        NaN  \n",
       "Profit            14681.4   89949.14  107404.34  134307.35  191792.06  "
      ]
     },
     "execution_count": 15,
     "metadata": {},
     "output_type": "execute_result"
    }
   ],
   "source": [
    "data_cleaned.describe(include='all').T"
   ]
  },
  {
   "cell_type": "code",
   "execution_count": 16,
   "id": "8dbadcbe",
   "metadata": {},
   "outputs": [
    {
     "data": {
      "image/png": "[encoded data removed]",
      "text/plain": [
       "<Figure size 864x648 with 2 Axes>"
      ]
     },
     "metadata": {},
     "output_type": "display_data"
    }
   ],
   "source": [
    "plt.figure(figsize=(12, 9));\n",
    "correlation_matrix = data_cleaned.corr().round(2);\n",
    "sns.heatmap(correlation_matrix, cmap=\"YlGnBu\", annot=True);"
   ]
  },
  {
   "cell_type": "markdown",
   "id": "7d865f20",
   "metadata": {},
   "source": [
    "**There are not two features which more correlated**"
   ]
  },
  {
   "cell_type": "markdown",
   "id": "de0d5741",
   "metadata": {},
   "source": [
    "***\n",
    "### Multicollinearity"
   ]
  },
  {
   "cell_type": "code",
   "execution_count": 17,
   "id": "9b1e6498",
   "metadata": {},
   "outputs": [
    {
     "data": {
      "text/plain": [
       "array(['R&D Spend', 'Administration', 'Marketing Spend', 'State',\n",
       "       'Profit'], dtype=object)"
      ]
     },
     "execution_count": 17,
     "metadata": {},
     "output_type": "execute_result"
    }
   ],
   "source": [
    "data_cleaned.columns.values"
   ]
  },
  {
   "cell_type": "code",
   "execution_count": 18,
   "id": "cbe7f346",
   "metadata": {},
   "outputs": [],
   "source": [
    "from statsmodels.stats.outliers_influence import variance_inflation_factor\n",
    "\n",
    "variables = data_cleaned[['R&D Spend','Marketing Spend', 'Administration']]\n",
    "vif = pd.DataFrame()\n",
    "vif[\"VIF\"] = [variance_inflation_factor(variables.values, i) for i in range(variables.shape[1])]\n",
    "vif[\"Features\"] = variables.columns"
   ]
  },
  {
   "cell_type": "code",
   "execution_count": 19,
   "id": "ea1526e5",
   "metadata": {
    "scrolled": true
   },
   "outputs": [
    {
     "data": {
      "text/html": [
       "<div><div id=24d089ea-44b0-4325-bb0a-ea47377891a8 style=\"display:none; background-color:#9D6CFF; color:white; width:200px; height:30px; padding-left:5px; border-radius:4px; flex-direction:row; justify-content:space-around; align-items:center;\" onmouseover=\"this.style.backgroundColor='#BA9BF8'\" onmouseout=\"this.style.backgroundColor='#9D6CFF'\" onclick=\"window.commands?.execute('create-mitosheet-from-dataframe-output');\">See Full Dataframe in Mito</div> <script> if (window.commands.hasCommand('create-mitosheet-from-dataframe-output')) document.getElementById('24d089ea-44b0-4325-bb0a-ea47377891a8').style.display = 'flex' </script> <table border=\"1\" class=\"dataframe\">\n",
       "  <thead>\n",
       "    <tr style=\"text-align: right;\">\n",
       "      <th></th>\n",
       "      <th>VIF</th>\n",
       "      <th>Features</th>\n",
       "    </tr>\n",
       "  </thead>\n",
       "  <tbody>\n",
       "    <tr>\n",
       "      <th>0</th>\n",
       "      <td>7.865836</td>\n",
       "      <td>R&amp;D Spend</td>\n",
       "    </tr>\n",
       "    <tr>\n",
       "      <th>1</th>\n",
       "      <td>7.104986</td>\n",
       "      <td>Marketing Spend</td>\n",
       "    </tr>\n",
       "    <tr>\n",
       "      <th>2</th>\n",
       "      <td>4.053874</td>\n",
       "      <td>Administration</td>\n",
       "    </tr>\n",
       "  </tbody>\n",
       "</table></div>"
      ],
      "text/plain": [
       "        VIF         Features\n",
       "0  7.865836        R&D Spend\n",
       "1  7.104986  Marketing Spend\n",
       "2  4.053874   Administration"
      ]
     },
     "execution_count": 19,
     "metadata": {},
     "output_type": "execute_result"
    }
   ],
   "source": [
    "vif"
   ]
  },
  {
   "cell_type": "markdown",
   "id": "0bdc4656",
   "metadata": {},
   "source": [
    "***\n",
    "### Create Dummies"
   ]
  },
  {
   "cell_type": "code",
   "execution_count": 20,
   "id": "873b5dba",
   "metadata": {},
   "outputs": [],
   "source": [
    "# To include the categorical data in the regression, let's create dummies\n",
    "# There is a very convenient method called: 'get_dummies' which does that seemlessly\n",
    "# It is extremely important that we drop one of the dummies, alternatively we will introduce multicollinearity\n",
    "data_with_dummies = pd.get_dummies(data_cleaned, drop_first=True)"
   ]
  },
  {
   "cell_type": "code",
   "execution_count": 21,
   "id": "e45c1647",
   "metadata": {
    "scrolled": true
   },
   "outputs": [
    {
     "data": {
      "text/html": [
       "<div><div id=e0b75511-60b3-4373-918d-a4851992f8a5 style=\"display:none; background-color:#9D6CFF; color:white; width:200px; height:30px; padding-left:5px; border-radius:4px; flex-direction:row; justify-content:space-around; align-items:center;\" onmouseover=\"this.style.backgroundColor='#BA9BF8'\" onmouseout=\"this.style.backgroundColor='#9D6CFF'\" onclick=\"window.commands?.execute('create-mitosheet-from-dataframe-output');\">See Full Dataframe in Mito</div> <script> if (window.commands.hasCommand('create-mitosheet-from-dataframe-output')) document.getElementById('e0b75511-60b3-4373-918d-a4851992f8a5').style.display = 'flex' </script> <table border=\"1\" class=\"dataframe\">\n",
       "  <thead>\n",
       "    <tr style=\"text-align: right;\">\n",
       "      <th></th>\n",
       "      <th>R&amp;D Spend</th>\n",
       "      <th>Administration</th>\n",
       "      <th>Marketing Spend</th>\n",
       "      <th>Profit</th>\n",
       "      <th>State_Florida</th>\n",
       "      <th>State_New York</th>\n",
       "    </tr>\n",
       "  </thead>\n",
       "  <tbody>\n",
       "    <tr>\n",
       "      <th>0</th>\n",
       "      <td>162597.70</td>\n",
       "      <td>151377.59</td>\n",
       "      <td>443898.53</td>\n",
       "      <td>191792.06</td>\n",
       "      <td>0</td>\n",
       "      <td>0</td>\n",
       "    </tr>\n",
       "    <tr>\n",
       "      <th>1</th>\n",
       "      <td>153441.51</td>\n",
       "      <td>101145.55</td>\n",
       "      <td>407934.54</td>\n",
       "      <td>191050.39</td>\n",
       "      <td>1</td>\n",
       "      <td>0</td>\n",
       "    </tr>\n",
       "    <tr>\n",
       "      <th>2</th>\n",
       "      <td>144372.41</td>\n",
       "      <td>118671.85</td>\n",
       "      <td>383199.62</td>\n",
       "      <td>182901.99</td>\n",
       "      <td>0</td>\n",
       "      <td>1</td>\n",
       "    </tr>\n",
       "    <tr>\n",
       "      <th>3</th>\n",
       "      <td>142107.34</td>\n",
       "      <td>91391.77</td>\n",
       "      <td>366168.42</td>\n",
       "      <td>166187.94</td>\n",
       "      <td>1</td>\n",
       "      <td>0</td>\n",
       "    </tr>\n",
       "    <tr>\n",
       "      <th>4</th>\n",
       "      <td>131876.90</td>\n",
       "      <td>99814.71</td>\n",
       "      <td>362861.36</td>\n",
       "      <td>156991.12</td>\n",
       "      <td>0</td>\n",
       "      <td>1</td>\n",
       "    </tr>\n",
       "  </tbody>\n",
       "</table></div>"
      ],
      "text/plain": [
       "   R&D Spend  Administration  Marketing Spend     Profit  State_Florida  \\\n",
       "0  162597.70       151377.59        443898.53  191792.06              0   \n",
       "1  153441.51       101145.55        407934.54  191050.39              1   \n",
       "2  144372.41       118671.85        383199.62  182901.99              0   \n",
       "3  142107.34        91391.77        366168.42  166187.94              1   \n",
       "4  131876.90        99814.71        362861.36  156991.12              0   \n",
       "\n",
       "   State_New York  \n",
       "0               0  \n",
       "1               0  \n",
       "2               1  \n",
       "3               0  \n",
       "4               1  "
      ]
     },
     "execution_count": 21,
     "metadata": {},
     "output_type": "execute_result"
    }
   ],
   "source": [
    "# Here's the result\n",
    "data_with_dummies.head()"
   ]
  },
  {
   "cell_type": "markdown",
   "id": "f3db90f8",
   "metadata": {},
   "source": [
    "***\n",
    "### Declare the inputs and the targets"
   ]
  },
  {
   "cell_type": "code",
   "execution_count": 22,
   "id": "97b90a3a",
   "metadata": {},
   "outputs": [],
   "source": [
    "data_preprocessed = data_with_dummies"
   ]
  },
  {
   "cell_type": "code",
   "execution_count": 23,
   "id": "1bdb95cd",
   "metadata": {},
   "outputs": [],
   "source": [
    "# The target(s) (dependent variable) is 'log price'\n",
    "targets = data_preprocessed['Profit']\n",
    "\n",
    "# The inputs are everything BUT the dependent variable, so we can simply drop it\n",
    "inputs = data_preprocessed.drop(['Profit'],axis=1)"
   ]
  },
  {
   "cell_type": "markdown",
   "id": "aa0aea00",
   "metadata": {},
   "source": [
    "***\n",
    "## Feature selection\n",
    "\n",
    "Full documentation: https://scikit-learn.org/stable/modules/generated/sklearn.feature_selection.f_regression.html"
   ]
  },
  {
   "cell_type": "code",
   "execution_count": 24,
   "id": "eb62d986",
   "metadata": {},
   "outputs": [],
   "source": [
    "from sklearn.feature_selection import f_regression"
   ]
  },
  {
   "cell_type": "code",
   "execution_count": 25,
   "id": "bd6f6525",
   "metadata": {},
   "outputs": [
    {
     "data": {
      "text/plain": [
       "(array([7.60337988e+02, 1.68655174e+00, 5.16213354e+01, 1.10389677e+00,\n",
       "        3.55852166e-02]),\n",
       " array([1.13385465e-30, 2.00391966e-01, 4.28940111e-09, 2.98784909e-01,\n",
       "        8.51186827e-01]))"
      ]
     },
     "execution_count": 25,
     "metadata": {},
     "output_type": "execute_result"
    }
   ],
   "source": [
    "f_regression(inputs,targets)\n",
    "\n",
    "# There are two output arrays\n",
    "# The first one contains the F-statistics for each of the regressions\n",
    "# The second one contains the p-values of these F-statistics"
   ]
  },
  {
   "cell_type": "code",
   "execution_count": 26,
   "id": "e13645d2",
   "metadata": {},
   "outputs": [
    {
     "data": {
      "text/plain": [
       "array([1.13385465e-30, 2.00391966e-01, 4.28940111e-09, 2.98784909e-01,\n",
       "       8.51186827e-01])"
      ]
     },
     "execution_count": 26,
     "metadata": {},
     "output_type": "execute_result"
    }
   ],
   "source": [
    "# Since we are more interested in the latter (p-values), we can just take the second array\n",
    "p_values = f_regression(inputs,targets)[1]\n",
    "p_values"
   ]
  },
  {
   "cell_type": "code",
   "execution_count": 27,
   "id": "66a5c2a9",
   "metadata": {},
   "outputs": [
    {
     "data": {
      "text/plain": [
       "array([0.   , 0.2  , 0.   , 0.299, 0.851])"
      ]
     },
     "execution_count": 27,
     "metadata": {},
     "output_type": "execute_result"
    }
   ],
   "source": [
    "# To be able to quickly evaluate them, we can round the result to 3 digits after the dot\n",
    "p_values.round(3)"
   ]
  },
  {
   "cell_type": "markdown",
   "id": "60dcdcb2",
   "metadata": {},
   "source": [
    "\n",
    "#### Check for highly correlated features"
   ]
  },
  {
   "cell_type": "code",
   "execution_count": 28,
   "id": "aa7e26b2",
   "metadata": {},
   "outputs": [],
   "source": [
    "columns = np.full((inputs.corr().shape[0],), True, dtype=bool)\n",
    "for i in range(inputs.corr().shape[0]):\n",
    "    for j in range(i+1, inputs.corr().shape[0]):\n",
    "        if inputs.corr().iloc[i,j] >= 0.9:\n",
    "            if columns[j]:\n",
    "                columns[j] = False\n",
    "selected_columns = inputs.columns[columns]\n",
    "inputs = inputs[selected_columns]"
   ]
  },
  {
   "cell_type": "code",
   "execution_count": 29,
   "id": "5728f4a0",
   "metadata": {},
   "outputs": [
    {
     "data": {
      "text/plain": [
       "array(['R&D Spend', 'Administration', 'Marketing Spend', 'State_Florida',\n",
       "       'State_New York'], dtype=object)"
      ]
     },
     "execution_count": 29,
     "metadata": {},
     "output_type": "execute_result"
    }
   ],
   "source": [
    "inputs.columns.values"
   ]
  },
  {
   "cell_type": "markdown",
   "id": "bd35c86f",
   "metadata": {},
   "source": [
    "**No highly correlated features which needs to be removed**"
   ]
  },
  {
   "cell_type": "markdown",
   "id": "18347a77",
   "metadata": {},
   "source": [
    "#### Check for VarianceThreshold"
   ]
  },
  {
   "cell_type": "code",
   "execution_count": 30,
   "id": "f43c7a9e",
   "metadata": {},
   "outputs": [],
   "source": [
    "from sklearn.feature_selection import VarianceThreshold"
   ]
  },
  {
   "cell_type": "code",
   "execution_count": 31,
   "id": "f7ac5b30",
   "metadata": {},
   "outputs": [],
   "source": [
    "treshhold = VarianceThreshold(threshold=0)"
   ]
  },
  {
   "cell_type": "code",
   "execution_count": 32,
   "id": "81321b4f",
   "metadata": {},
   "outputs": [
    {
     "data": {
      "text/plain": [
       "VarianceThreshold(threshold=0)"
      ]
     },
     "execution_count": 32,
     "metadata": {},
     "output_type": "execute_result"
    }
   ],
   "source": [
    "treshhold.fit(inputs)"
   ]
  },
  {
   "cell_type": "code",
   "execution_count": 33,
   "id": "03f22eaa",
   "metadata": {},
   "outputs": [
    {
     "data": {
      "text/plain": [
       "array([ True,  True,  True,  True,  True])"
      ]
     },
     "execution_count": 33,
     "metadata": {},
     "output_type": "execute_result"
    }
   ],
   "source": [
    "treshhold.get_support()"
   ]
  },
  {
   "cell_type": "code",
   "execution_count": 34,
   "id": "031c65ff",
   "metadata": {
    "scrolled": false
   },
   "outputs": [],
   "source": [
    "# !pip install featurewiz"
   ]
  },
  {
   "cell_type": "markdown",
   "id": "6c503e89",
   "metadata": {},
   "source": [
    "#### Another check using featurewiz"
   ]
  },
  {
   "cell_type": "code",
   "execution_count": 35,
   "id": "25d7ee4e",
   "metadata": {},
   "outputs": [
    {
     "name": "stdout",
     "output_type": "stream",
     "text": [
      "Imported featurewiz. Version = 0.1.32. Now with dask, XGBoost-GPU and feather-format.\n",
      "outputs = featurewiz(dataname, target, corr_limit=0.70, verbose=2, sep=',', \n",
      "\t\theader=0, test_data='',feature_engg='', category_encoders='',\n",
      "\t\tdask_xgboost_flag=False, nrows=None)\n",
      "Create new features via 'feature_engg' flag : ['interactions','groupby','target']\n",
      "                                \n"
     ]
    }
   ],
   "source": [
    "from sklearn.experimental import enable_hist_gradient_boosting\n",
    "from sklearn.ensemble import HistGradientBoostingRegressor\n",
    "from featurewiz import featurewiz"
   ]
  },
  {
   "cell_type": "code",
   "execution_count": 36,
   "id": "8751f3c2",
   "metadata": {},
   "outputs": [
    {
     "name": "stdout",
     "output_type": "stream",
     "text": [
      "############################################################################################\n",
      "############       F A S T   F E A T U R E  E N G G    A N D    S E L E C T I O N ! ########\n",
      "# Be judicious with featurewiz. Don't use it to create too many un-interpretable features! #\n",
      "############################################################################################\n",
      "Skipping feature engineering since no feature_engg input...\n",
      "Skipping category encoding since no category encoders specified in input...\n",
      "**INFO: featurewiz can now read feather formatted files. Loading train data...\n",
      "    Shape of your Data Set loaded: (49, 6)\n",
      "    Loaded train data. Shape = (49, 6)\n",
      "    Some column names had special characters which were removed...\n",
      "No test data filename given...\n",
      "#######################################################################################\n",
      "######################## C L A S S I F Y I N G  V A R I A B L E S  ####################\n",
      "#######################################################################################\n",
      "Classifying variables in data set...\n",
      "    5 Predictors classified...\n",
      "        No variables were removed since no ID or low-information variables found in data set\n",
      "No GPU active on this device\n",
      "    Tuning XGBoost using CPU hyper-parameters. This will take time...\n",
      "    After removing redundant variables from further processing, features left = 5\n",
      "No interactions created for categorical vars since feature engg does not specify it\n",
      "#### Single_Label Regression problem ####\n",
      "    target labels need to be converted...\n",
      "#######################################################################################\n",
      "#####  Searching for Uncorrelated List Of Variables (SULOV) in 5 features ############\n",
      "#######################################################################################\n",
      "    there are no null values in dataset...\n"
     ]
    },
    {
     "data": {
      "image/png": "[encoded data removed]",
      "text/plain": [
       "<Figure size 1080x360 with 1 Axes>"
      ]
     },
     "metadata": {},
     "output_type": "display_data"
    },
    {
     "name": "stdout",
     "output_type": "stream",
     "text": [
      "Time taken for SULOV method = 1 seconds\n",
      "    Adding 0 categorical variables to reduced numeric variables  of 5\n",
      "Final list of selected vars after SULOV = 5\n",
      "Readying dataset for Recursive XGBoost by converting all features to numeric...\n",
      "#######################################################################################\n",
      "#####    R E C U R S I V E   X G B O O S T : F E A T U R E   S E L E C T I O N  #######\n",
      "#######################################################################################\n",
      "    using regular XGBoost\n",
      "Train and Test loaded into Dask dataframes successfully after feature_engg completed\n",
      "Current number of predictors = 5 \n",
      "    XGBoost version: 1.6.0\n",
      "Number of booster rounds = 100\n",
      "        using 5 variables...\n",
      "Regular XGBoost is crashing due to: dlsym(0x20b92db20, XGDMatrixCreateFromDense): symbol not found\n",
      "dlsym(0x20b92db20, XGDMatrixCreateFromDense): symbol not found\n",
      "Regular XGBoost is crashing due to local variable 'dtrain' referenced before assignment. Returning with currently selected features...\n",
      "            Total time taken for XGBoost feature selection = 0 seconds\n",
      "No ID variables [] are selected since they are not considered important for modeling\n",
      "#######################################################################################\n",
      "#####          F E A T U R E   S E L E C T I O N   C O M P L E T E D            #######\n",
      "#######################################################################################\n",
      "Selected 5 important features:\n",
      "['Administration', 'MarketingSpend', 'State_Florida', 'State_NewYork', 'RDSpend']\n",
      "\n",
      "    Time taken = 1 seconds\n",
      "    Reverted column names to original names given in train dataset\n",
      "Returning list of 5 important features and a dataframe.\n"
     ]
    }
   ],
   "source": [
    "out1, out2 = featurewiz(data_with_dummies, 'Profit', corr_limit=0.7, verbose=0)"
   ]
  },
  {
   "cell_type": "code",
   "execution_count": 37,
   "id": "892307a7",
   "metadata": {},
   "outputs": [
    {
     "data": {
      "text/html": [
       "<div><div id=99d99b67-fdfd-4e58-82af-40492f6d27a6 style=\"display:none; background-color:#9D6CFF; color:white; width:200px; height:30px; padding-left:5px; border-radius:4px; flex-direction:row; justify-content:space-around; align-items:center;\" onmouseover=\"this.style.backgroundColor='#BA9BF8'\" onmouseout=\"this.style.backgroundColor='#9D6CFF'\" onclick=\"window.commands?.execute('create-mitosheet-from-dataframe-output');\">See Full Dataframe in Mito</div> <script> if (window.commands.hasCommand('create-mitosheet-from-dataframe-output')) document.getElementById('99d99b67-fdfd-4e58-82af-40492f6d27a6').style.display = 'flex' </script> <table border=\"1\" class=\"dataframe\">\n",
       "  <thead>\n",
       "    <tr style=\"text-align: right;\">\n",
       "      <th></th>\n",
       "      <th>Administration</th>\n",
       "      <th>MarketingSpend</th>\n",
       "      <th>State_Florida</th>\n",
       "      <th>State_NewYork</th>\n",
       "      <th>RDSpend</th>\n",
       "      <th>Profit</th>\n",
       "    </tr>\n",
       "  </thead>\n",
       "  <tbody>\n",
       "    <tr>\n",
       "      <th>0</th>\n",
       "      <td>151377.59</td>\n",
       "      <td>443898.53</td>\n",
       "      <td>0</td>\n",
       "      <td>0</td>\n",
       "      <td>162597.70</td>\n",
       "      <td>191792.06</td>\n",
       "    </tr>\n",
       "    <tr>\n",
       "      <th>1</th>\n",
       "      <td>101145.55</td>\n",
       "      <td>407934.54</td>\n",
       "      <td>1</td>\n",
       "      <td>0</td>\n",
       "      <td>153441.51</td>\n",
       "      <td>191050.39</td>\n",
       "    </tr>\n",
       "    <tr>\n",
       "      <th>2</th>\n",
       "      <td>118671.85</td>\n",
       "      <td>383199.62</td>\n",
       "      <td>0</td>\n",
       "      <td>1</td>\n",
       "      <td>144372.41</td>\n",
       "      <td>182901.99</td>\n",
       "    </tr>\n",
       "    <tr>\n",
       "      <th>3</th>\n",
       "      <td>91391.77</td>\n",
       "      <td>366168.42</td>\n",
       "      <td>1</td>\n",
       "      <td>0</td>\n",
       "      <td>142107.34</td>\n",
       "      <td>166187.94</td>\n",
       "    </tr>\n",
       "    <tr>\n",
       "      <th>4</th>\n",
       "      <td>99814.71</td>\n",
       "      <td>362861.36</td>\n",
       "      <td>0</td>\n",
       "      <td>1</td>\n",
       "      <td>131876.90</td>\n",
       "      <td>156991.12</td>\n",
       "    </tr>\n",
       "  </tbody>\n",
       "</table></div>"
      ],
      "text/plain": [
       "   Administration  MarketingSpend  State_Florida  State_NewYork    RDSpend  \\\n",
       "0       151377.59       443898.53              0              0  162597.70   \n",
       "1       101145.55       407934.54              1              0  153441.51   \n",
       "2       118671.85       383199.62              0              1  144372.41   \n",
       "3        91391.77       366168.42              1              0  142107.34   \n",
       "4        99814.71       362861.36              0              1  131876.90   \n",
       "\n",
       "      Profit  \n",
       "0  191792.06  \n",
       "1  191050.39  \n",
       "2  182901.99  \n",
       "3  166187.94  \n",
       "4  156991.12  "
      ]
     },
     "execution_count": 37,
     "metadata": {},
     "output_type": "execute_result"
    }
   ],
   "source": [
    "out2.head()"
   ]
  },
  {
   "cell_type": "markdown",
   "id": "0e676a8d",
   "metadata": {},
   "source": [
    "***\n",
    "### Multiple linear regression\n"
   ]
  },
  {
   "cell_type": "code",
   "execution_count": 38,
   "id": "7a1ed7fa",
   "metadata": {},
   "outputs": [],
   "source": [
    "from sklearn.model_selection import train_test_split\n",
    "X_train, X_test, y_train, y_test = train_test_split(inputs, targets, test_size = 0.2, random_state = 0)"
   ]
  },
  {
   "cell_type": "code",
   "execution_count": 39,
   "id": "c6054eeb",
   "metadata": {},
   "outputs": [
    {
     "data": {
      "text/plain": [
       "LinearRegression()"
      ]
     },
     "execution_count": 39,
     "metadata": {},
     "output_type": "execute_result"
    }
   ],
   "source": [
    "from sklearn.linear_model import LinearRegression\n",
    "regressor = LinearRegression()\n",
    "regressor.fit(X_train, y_train)"
   ]
  },
  {
   "cell_type": "code",
   "execution_count": 40,
   "id": "9c07a673",
   "metadata": {},
   "outputs": [
    {
     "data": {
      "text/html": [
       "<div><div id=2e5d16fa-d078-462b-8d5b-9e4187f1487b style=\"display:none; background-color:#9D6CFF; color:white; width:200px; height:30px; padding-left:5px; border-radius:4px; flex-direction:row; justify-content:space-around; align-items:center;\" onmouseover=\"this.style.backgroundColor='#BA9BF8'\" onmouseout=\"this.style.backgroundColor='#9D6CFF'\" onclick=\"window.commands?.execute('create-mitosheet-from-dataframe-output');\">See Full Dataframe in Mito</div> <script> if (window.commands.hasCommand('create-mitosheet-from-dataframe-output')) document.getElementById('2e5d16fa-d078-462b-8d5b-9e4187f1487b').style.display = 'flex' </script> <table border=\"1\" class=\"dataframe\">\n",
       "  <thead>\n",
       "    <tr style=\"text-align: right;\">\n",
       "      <th></th>\n",
       "      <th>Features</th>\n",
       "      <th>Coefficients</th>\n",
       "      <th>p-values</th>\n",
       "    </tr>\n",
       "  </thead>\n",
       "  <tbody>\n",
       "    <tr>\n",
       "      <th>0</th>\n",
       "      <td>R&amp;D Spend</td>\n",
       "      <td>0.802272</td>\n",
       "      <td>0.000</td>\n",
       "    </tr>\n",
       "    <tr>\n",
       "      <th>1</th>\n",
       "      <td>Administration</td>\n",
       "      <td>0.016413</td>\n",
       "      <td>0.200</td>\n",
       "    </tr>\n",
       "    <tr>\n",
       "      <th>2</th>\n",
       "      <td>Marketing Spend</td>\n",
       "      <td>0.033307</td>\n",
       "      <td>0.000</td>\n",
       "    </tr>\n",
       "    <tr>\n",
       "      <th>3</th>\n",
       "      <td>State_Florida</td>\n",
       "      <td>-43.882285</td>\n",
       "      <td>0.299</td>\n",
       "    </tr>\n",
       "    <tr>\n",
       "      <th>4</th>\n",
       "      <td>State_New York</td>\n",
       "      <td>368.421188</td>\n",
       "      <td>0.851</td>\n",
       "    </tr>\n",
       "  </tbody>\n",
       "</table></div>"
      ],
      "text/plain": [
       "          Features  Coefficients  p-values\n",
       "0        R&D Spend      0.802272     0.000\n",
       "1   Administration      0.016413     0.200\n",
       "2  Marketing Spend      0.033307     0.000\n",
       "3    State_Florida    -43.882285     0.299\n",
       "4   State_New York    368.421188     0.851"
      ]
     },
     "execution_count": 40,
     "metadata": {},
     "output_type": "execute_result"
    }
   ],
   "source": [
    "reg_summary = pd.DataFrame(data = inputs.columns.values, columns=['Features'])\n",
    "reg_summary ['Coefficients'] = regressor.coef_\n",
    "reg_summary ['p-values'] = p_values.round(3)\n",
    "reg_summary"
   ]
  },
  {
   "cell_type": "code",
   "execution_count": 41,
   "id": "5a127224",
   "metadata": {},
   "outputs": [],
   "source": [
    "y_hat_test = regressor.predict(X_test)"
   ]
  },
  {
   "cell_type": "code",
   "execution_count": 42,
   "id": "c5e3bf6a",
   "metadata": {},
   "outputs": [],
   "source": [
    "df_pf = pd.DataFrame(y_hat_test, columns=['Prediction'])"
   ]
  },
  {
   "cell_type": "code",
   "execution_count": 43,
   "id": "863a3ba8",
   "metadata": {},
   "outputs": [],
   "source": [
    "y_test = y_test.reset_index(drop=True)"
   ]
  },
  {
   "cell_type": "code",
   "execution_count": 44,
   "id": "cc799944",
   "metadata": {},
   "outputs": [
    {
     "data": {
      "text/html": [
       "<div><div id=9fb1aadc-94b0-4fa2-8e0e-1eb25834843b style=\"display:none; background-color:#9D6CFF; color:white; width:200px; height:30px; padding-left:5px; border-radius:4px; flex-direction:row; justify-content:space-around; align-items:center;\" onmouseover=\"this.style.backgroundColor='#BA9BF8'\" onmouseout=\"this.style.backgroundColor='#9D6CFF'\" onclick=\"window.commands?.execute('create-mitosheet-from-dataframe-output');\">See Full Dataframe in Mito</div> <script> if (window.commands.hasCommand('create-mitosheet-from-dataframe-output')) document.getElementById('9fb1aadc-94b0-4fa2-8e0e-1eb25834843b').style.display = 'flex' </script> <table border=\"1\" class=\"dataframe\">\n",
       "  <thead>\n",
       "    <tr style=\"text-align: right;\">\n",
       "      <th></th>\n",
       "      <th>Prediction</th>\n",
       "      <th>Target</th>\n",
       "      <th>Residual</th>\n",
       "      <th>Difference%</th>\n",
       "    </tr>\n",
       "  </thead>\n",
       "  <tbody>\n",
       "    <tr>\n",
       "      <th>4</th>\n",
       "      <td>96682.00</td>\n",
       "      <td>96778.92</td>\n",
       "      <td>96.92</td>\n",
       "      <td>0.10</td>\n",
       "    </tr>\n",
       "    <tr>\n",
       "      <th>8</th>\n",
       "      <td>153260.42</td>\n",
       "      <td>152211.77</td>\n",
       "      <td>-1048.65</td>\n",
       "      <td>0.69</td>\n",
       "    </tr>\n",
       "    <tr>\n",
       "      <th>3</th>\n",
       "      <td>98225.33</td>\n",
       "      <td>97483.56</td>\n",
       "      <td>-741.77</td>\n",
       "      <td>0.76</td>\n",
       "    </tr>\n",
       "    <tr>\n",
       "      <th>0</th>\n",
       "      <td>97990.20</td>\n",
       "      <td>99937.59</td>\n",
       "      <td>1947.39</td>\n",
       "      <td>1.95</td>\n",
       "    </tr>\n",
       "    <tr>\n",
       "      <th>1</th>\n",
       "      <td>163257.92</td>\n",
       "      <td>156991.12</td>\n",
       "      <td>-6266.80</td>\n",
       "      <td>3.99</td>\n",
       "    </tr>\n",
       "    <tr>\n",
       "      <th>7</th>\n",
       "      <td>72566.54</td>\n",
       "      <td>77798.83</td>\n",
       "      <td>5232.29</td>\n",
       "      <td>6.73</td>\n",
       "    </tr>\n",
       "    <tr>\n",
       "      <th>9</th>\n",
       "      <td>133955.39</td>\n",
       "      <td>144259.40</td>\n",
       "      <td>10304.01</td>\n",
       "      <td>7.14</td>\n",
       "    </tr>\n",
       "    <tr>\n",
       "      <th>6</th>\n",
       "      <td>88889.56</td>\n",
       "      <td>96479.51</td>\n",
       "      <td>7589.95</td>\n",
       "      <td>7.87</td>\n",
       "    </tr>\n",
       "    <tr>\n",
       "      <th>2</th>\n",
       "      <td>115444.77</td>\n",
       "      <td>105008.31</td>\n",
       "      <td>-10436.46</td>\n",
       "      <td>9.94</td>\n",
       "    </tr>\n",
       "    <tr>\n",
       "      <th>5</th>\n",
       "      <td>67215.41</td>\n",
       "      <td>81229.06</td>\n",
       "      <td>14013.65</td>\n",
       "      <td>17.25</td>\n",
       "    </tr>\n",
       "  </tbody>\n",
       "</table></div>"
      ],
      "text/plain": [
       "   Prediction    Target  Residual  Difference%\n",
       "4    96682.00  96778.92     96.92         0.10\n",
       "8   153260.42 152211.77  -1048.65         0.69\n",
       "3    98225.33  97483.56   -741.77         0.76\n",
       "0    97990.20  99937.59   1947.39         1.95\n",
       "1   163257.92 156991.12  -6266.80         3.99\n",
       "7    72566.54  77798.83   5232.29         6.73\n",
       "9   133955.39 144259.40  10304.01         7.14\n",
       "6    88889.56  96479.51   7589.95         7.87\n",
       "2   115444.77 105008.31 -10436.46         9.94\n",
       "5    67215.41  81229.06  14013.65        17.25"
      ]
     },
     "execution_count": 44,
     "metadata": {},
     "output_type": "execute_result"
    }
   ],
   "source": [
    "df_pf['Target'] = y_test\n",
    "df_pf['Residual'] = df_pf['Target'] - df_pf['Prediction']\n",
    "df_pf['Difference%'] = np.absolute(df_pf['Residual']/df_pf['Target']*100)\n",
    "pd.set_option('display.float_format', lambda x: '%.2f' % x)\n",
    "df_pf.sort_values(by=['Difference%'])"
   ]
  },
  {
   "cell_type": "code",
   "execution_count": 45,
   "id": "38e4337c",
   "metadata": {},
   "outputs": [
    {
     "name": "stdout",
     "output_type": "stream",
     "text": [
      "\n",
      "MAE: 5767.78946082033\n",
      "MSE: 54118330.7810428\n",
      "RMSE: 7356.51621224631\n",
      "R2: 0.9293690830612813\n",
      "\n"
     ]
    }
   ],
   "source": [
    "from sklearn.metrics import mean_absolute_error\n",
    "from sklearn.metrics import mean_squared_error\n",
    "from sklearn.metrics import r2_score\n",
    "\n",
    "print(f'''\n",
    "MAE: {mean_absolute_error(y_test,y_hat_test)}\n",
    "MSE: {mean_squared_error(y_test,y_hat_test)}\n",
    "RMSE: {np.sqrt(mean_squared_error(y_test,y_hat_test))}\n",
    "R2: {r2_score(y_test,y_hat_test)}\n",
    "''')"
   ]
  },
  {
   "cell_type": "code",
   "execution_count": 46,
   "id": "7d6ceccb",
   "metadata": {},
   "outputs": [
    {
     "name": "stdout",
     "output_type": "stream",
     "text": [
      "0.9255511956591884\n"
     ]
    }
   ],
   "source": [
    "r2 = r2_score(y_test,y_hat_test)\n",
    "n=40\n",
    "k=2\n",
    "adj_r2_score = 1 - ((1-r2)*(n-1)/(n-k-1))\n",
    "print(adj_r2_score)"
   ]
  },
  {
   "cell_type": "markdown",
   "id": "d6a67218",
   "metadata": {},
   "source": [
    "***\n",
    "### Desicion Tree"
   ]
  },
  {
   "cell_type": "code",
   "execution_count": 47,
   "id": "51845c6c",
   "metadata": {},
   "outputs": [
    {
     "data": {
      "text/html": [
       "<div><div id=8dac5907-f59f-4647-a15b-7d05de437d96 style=\"display:none; background-color:#9D6CFF; color:white; width:200px; height:30px; padding-left:5px; border-radius:4px; flex-direction:row; justify-content:space-around; align-items:center;\" onmouseover=\"this.style.backgroundColor='#BA9BF8'\" onmouseout=\"this.style.backgroundColor='#9D6CFF'\" onclick=\"window.commands?.execute('create-mitosheet-from-dataframe-output');\">See Full Dataframe in Mito</div> <script> if (window.commands.hasCommand('create-mitosheet-from-dataframe-output')) document.getElementById('8dac5907-f59f-4647-a15b-7d05de437d96').style.display = 'flex' </script> <table border=\"1\" class=\"dataframe\">\n",
       "  <thead>\n",
       "    <tr style=\"text-align: right;\">\n",
       "      <th></th>\n",
       "      <th>R&amp;D Spend</th>\n",
       "      <th>Administration</th>\n",
       "      <th>Marketing Spend</th>\n",
       "      <th>Profit</th>\n",
       "      <th>State_Florida</th>\n",
       "      <th>State_New York</th>\n",
       "    </tr>\n",
       "  </thead>\n",
       "  <tbody>\n",
       "    <tr>\n",
       "      <th>0</th>\n",
       "      <td>162597.70</td>\n",
       "      <td>151377.59</td>\n",
       "      <td>443898.53</td>\n",
       "      <td>191792.06</td>\n",
       "      <td>0</td>\n",
       "      <td>0</td>\n",
       "    </tr>\n",
       "    <tr>\n",
       "      <th>1</th>\n",
       "      <td>153441.51</td>\n",
       "      <td>101145.55</td>\n",
       "      <td>407934.54</td>\n",
       "      <td>191050.39</td>\n",
       "      <td>1</td>\n",
       "      <td>0</td>\n",
       "    </tr>\n",
       "    <tr>\n",
       "      <th>2</th>\n",
       "      <td>144372.41</td>\n",
       "      <td>118671.85</td>\n",
       "      <td>383199.62</td>\n",
       "      <td>182901.99</td>\n",
       "      <td>0</td>\n",
       "      <td>1</td>\n",
       "    </tr>\n",
       "    <tr>\n",
       "      <th>3</th>\n",
       "      <td>142107.34</td>\n",
       "      <td>91391.77</td>\n",
       "      <td>366168.42</td>\n",
       "      <td>166187.94</td>\n",
       "      <td>1</td>\n",
       "      <td>0</td>\n",
       "    </tr>\n",
       "    <tr>\n",
       "      <th>4</th>\n",
       "      <td>131876.90</td>\n",
       "      <td>99814.71</td>\n",
       "      <td>362861.36</td>\n",
       "      <td>156991.12</td>\n",
       "      <td>0</td>\n",
       "      <td>1</td>\n",
       "    </tr>\n",
       "  </tbody>\n",
       "</table></div>"
      ],
      "text/plain": [
       "   R&D Spend  Administration  Marketing Spend    Profit  State_Florida  \\\n",
       "0  162597.70       151377.59        443898.53 191792.06              0   \n",
       "1  153441.51       101145.55        407934.54 191050.39              1   \n",
       "2  144372.41       118671.85        383199.62 182901.99              0   \n",
       "3  142107.34        91391.77        366168.42 166187.94              1   \n",
       "4  131876.90        99814.71        362861.36 156991.12              0   \n",
       "\n",
       "   State_New York  \n",
       "0               0  \n",
       "1               0  \n",
       "2               1  \n",
       "3               0  \n",
       "4               1  "
      ]
     },
     "execution_count": 47,
     "metadata": {},
     "output_type": "execute_result"
    }
   ],
   "source": [
    "data_with_dummies.head()"
   ]
  },
  {
   "cell_type": "code",
   "execution_count": 48,
   "id": "f909971b",
   "metadata": {},
   "outputs": [],
   "source": [
    "y = data_with_dummies['Profit']\n",
    "X = data_with_dummies.drop(['Profit'], axis=1)"
   ]
  },
  {
   "cell_type": "code",
   "execution_count": 49,
   "id": "667671a9",
   "metadata": {},
   "outputs": [],
   "source": [
    "from sklearn.model_selection import train_test_split\n",
    "x_train, x_test, y_train, y_test = train_test_split(X, y,test_size=0.2, random_state=1)"
   ]
  },
  {
   "cell_type": "code",
   "execution_count": 50,
   "id": "001180b0",
   "metadata": {},
   "outputs": [
    {
     "data": {
      "text/plain": [
       "DecisionTreeRegressor(random_state=0)"
      ]
     },
     "execution_count": 50,
     "metadata": {},
     "output_type": "execute_result"
    }
   ],
   "source": [
    "from sklearn.tree import DecisionTreeRegressor\n",
    "regressor = DecisionTreeRegressor(random_state = 0)\n",
    "regressor.fit(x_train, y_train)"
   ]
  },
  {
   "cell_type": "code",
   "execution_count": 51,
   "id": "ac082f41",
   "metadata": {},
   "outputs": [
    {
     "data": {
      "text/plain": [
       "array([ 97427.84, 156991.12, 105008.31,  97427.84,  96778.92,  81229.06,\n",
       "        96712.8 ,  77798.83, 152211.77, 144259.4 ])"
      ]
     },
     "execution_count": 51,
     "metadata": {},
     "output_type": "execute_result"
    }
   ],
   "source": [
    "y_pred = regressor.predict(X_test)\n",
    "y_pred"
   ]
  },
  {
   "cell_type": "code",
   "execution_count": 52,
   "id": "98f958a7",
   "metadata": {},
   "outputs": [
    {
     "data": {
      "text/plain": [
       "-0.784724111837499"
      ]
     },
     "execution_count": 52,
     "metadata": {},
     "output_type": "execute_result"
    }
   ],
   "source": [
    "r2_score(y_test, y_pred)"
   ]
  },
  {
   "cell_type": "code",
   "execution_count": 53,
   "id": "276d3528",
   "metadata": {},
   "outputs": [],
   "source": [
    "import graphviz\n",
    "from sklearn import tree\n",
    "dot_data = tree.export_graphviz(regressor, out_file='tree.dot') \n",
    "# plt.figure(figsize=(12,10))\n",
    "# tree.plot_tree(regressor);"
   ]
  },
  {
   "cell_type": "code",
   "execution_count": 54,
   "id": "fe0e66ac",
   "metadata": {},
   "outputs": [
    {
     "data": {
      "text/plain": [
       "array(['R&D Spend', 'Administration', 'Marketing Spend', 'State_Florida',\n",
       "       'State_New York'], dtype=object)"
      ]
     },
     "execution_count": 54,
     "metadata": {},
     "output_type": "execute_result"
    }
   ],
   "source": [
    "data_with_dummies.drop(['Profit'], axis=1).columns.values"
   ]
  },
  {
   "cell_type": "code",
   "execution_count": 55,
   "id": "00c57a67",
   "metadata": {},
   "outputs": [
    {
     "data": {
      "image/png": "[encoded data removed]",
      "text/plain": [
       "<Figure size 1800x1440 with 1 Axes>"
      ]
     },
     "metadata": {},
     "output_type": "display_data"
    }
   ],
   "source": [
    "fig = plt.figure(figsize=(25,20))\n",
    "_ = tree.plot_tree(regressor, feature_names=data_with_dummies.drop(['Profit'], axis=1).columns.values, filled=True)"
   ]
  },
  {
   "cell_type": "markdown",
   "id": "c19ada51",
   "metadata": {},
   "source": [
    "Decision tree model does not affect here well"
   ]
  },
  {
   "cell_type": "markdown",
   "id": "f709cf0f",
   "metadata": {},
   "source": [
    "***\n",
    "### Support Vector Regresssion"
   ]
  },
  {
   "cell_type": "code",
   "execution_count": 56,
   "id": "feada0e1",
   "metadata": {},
   "outputs": [],
   "source": [
    "y = data_with_dummies['Profit'].array.reshape(-1,1)\n",
    "X = data_with_dummies.drop(['Profit'], axis=1)"
   ]
  },
  {
   "cell_type": "code",
   "execution_count": 57,
   "id": "0df8101e",
   "metadata": {},
   "outputs": [],
   "source": [
    "from sklearn.model_selection import train_test_split\n",
    "x_train, x_test, y_train, y_test = train_test_split(X, y,test_size=0.2, random_state=1)"
   ]
  },
  {
   "cell_type": "code",
   "execution_count": 58,
   "id": "aa56c9a3",
   "metadata": {},
   "outputs": [],
   "source": [
    "from sklearn.preprocessing import StandardScaler\n",
    "sc_x = StandardScaler()\n",
    "sc_y = StandardScaler()\n",
    "x_train = sc_x.fit_transform(X)\n",
    "y_train = sc_y.fit_transform(y)"
   ]
  },
  {
   "cell_type": "code",
   "execution_count": 59,
   "id": "a931cbee",
   "metadata": {},
   "outputs": [
    {
     "data": {
      "text/plain": [
       "SVR()"
      ]
     },
     "execution_count": 59,
     "metadata": {},
     "output_type": "execute_result"
    }
   ],
   "source": [
    "from sklearn.svm import SVR\n",
    "regressor = SVR(kernel = 'rbf')\n",
    "regressor.fit(X, y)"
   ]
  },
  {
   "cell_type": "code",
   "execution_count": 60,
   "id": "919897f8",
   "metadata": {},
   "outputs": [
    {
     "data": {
      "text/plain": [
       "array([4.14655745e+09, 4.14655745e+09, 4.14655745e+09, 4.14655745e+09,\n",
       "       4.14655745e+09, 4.14655745e+09, 4.14655745e+09, 4.14655745e+09,\n",
       "       4.14655745e+09, 4.14655745e+09])"
      ]
     },
     "execution_count": 60,
     "metadata": {},
     "output_type": "execute_result"
    }
   ],
   "source": [
    "y_pred = sc_y.inverse_transform(regressor.predict(sc_x.transform(x_test)))\n",
    "y_pred"
   ]
  },
  {
   "cell_type": "code",
   "execution_count": 61,
   "id": "9a4a6e88",
   "metadata": {},
   "outputs": [
    {
     "data": {
      "text/plain": [
       "-7699962782.174147"
      ]
     },
     "execution_count": 61,
     "metadata": {},
     "output_type": "execute_result"
    }
   ],
   "source": [
    "r2_score(y_test, y_pred)"
   ]
  },
  {
   "cell_type": "markdown",
   "id": "a53c2569",
   "metadata": {},
   "source": [
    "SVM model does not affect here well"
   ]
  },
  {
   "cell_type": "markdown",
   "id": "f52f4237",
   "metadata": {},
   "source": [
    "***\n",
    "\n",
    "### Random Forest"
   ]
  },
  {
   "cell_type": "code",
   "execution_count": 62,
   "id": "cfc59830",
   "metadata": {},
   "outputs": [],
   "source": [
    "y = data_with_dummies['Profit'].array.reshape(-1,1)\n",
    "X = data_with_dummies.drop(['Profit'], axis=1)"
   ]
  },
  {
   "cell_type": "code",
   "execution_count": 63,
   "id": "a9d984ee",
   "metadata": {},
   "outputs": [],
   "source": [
    "from sklearn.model_selection import train_test_split\n",
    "x_train, x_test, y_train, y_test = train_test_split(X, y,test_size=0.2, random_state=1)"
   ]
  },
  {
   "cell_type": "code",
   "execution_count": 64,
   "id": "a2fa60dc",
   "metadata": {},
   "outputs": [
    {
     "data": {
      "text/plain": [
       "RandomForestRegressor(n_estimators=7, random_state=0)"
      ]
     },
     "execution_count": 64,
     "metadata": {},
     "output_type": "execute_result"
    }
   ],
   "source": [
    "from sklearn.ensemble import RandomForestRegressor\n",
    "regressor = RandomForestRegressor(n_estimators=7, random_state=0)\n",
    "regressor.fit(x_train, y_train)"
   ]
  },
  {
   "cell_type": "code",
   "execution_count": 65,
   "id": "cbce137a",
   "metadata": {},
   "outputs": [
    {
     "data": {
      "text/plain": [
       "array([101169.22571429,  95501.88142857,  81965.58857143,  59502.79714286,\n",
       "       175296.45      , 169610.10571429,  67322.44285714,  97938.81142857,\n",
       "        67364.90857143,  98449.78285714])"
      ]
     },
     "execution_count": 65,
     "metadata": {},
     "output_type": "execute_result"
    }
   ],
   "source": [
    "y_pred = regressor.predict(x_test)\n",
    "y_pred"
   ]
  },
  {
   "cell_type": "code",
   "execution_count": 66,
   "id": "7741a510",
   "metadata": {},
   "outputs": [
    {
     "data": {
      "text/plain": [
       "0.891254401510474"
      ]
     },
     "execution_count": 66,
     "metadata": {},
     "output_type": "execute_result"
    }
   ],
   "source": [
    "r2_score(y_test, y_pred)"
   ]
  }
 ],
 "metadata": {
  "kernelspec": {
   "display_name": "Python 3 (ipykernel)",
   "language": "python",
   "name": "python3"
  },
  "language_info": {
   "codemirror_mode": {
    "name": "ipython",
    "version": 3
   },
   "file_extension": ".py",
   "mimetype": "text/x-python",
   "name": "python",
   "nbconvert_exporter": "python",
   "pygments_lexer": "ipython3",
   "version": "3.9.6"
  }
 },
 "nbformat": 4,
 "nbformat_minor": 5
}
