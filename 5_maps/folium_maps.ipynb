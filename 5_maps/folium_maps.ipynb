{
 "cells": [
  {
   "cell_type": "markdown",
   "id": "2141c85f",
   "metadata": {},
   "source": [
    "## Imports"
   ]
  },
  {
   "cell_type": "code",
   "execution_count": 1,
   "id": "263aed17",
   "metadata": {},
   "outputs": [],
   "source": [
    "# imports - matploltib, pandas, NumPy\n",
    "import pandas as pd "
   ]
  },
  {
   "cell_type": "code",
   "execution_count": 2,
   "id": "5e6252db",
   "metadata": {},
   "outputs": [],
   "source": [
    "\n",
    "import datetime as dt\n",
    "from datetime import timedelta\n",
    "\n",
    "import folium\n",
    "\n",
    "import warnings\n",
    "warnings.filterwarnings('ignore')\n"
   ]
  },
  {
   "cell_type": "code",
   "execution_count": 3,
   "id": "b3691539",
   "metadata": {},
   "outputs": [
    {
     "data": {
      "text/html": [
       "        <script type=\"text/javascript\">\n",
       "        window.PlotlyConfig = {MathJaxConfig: 'local'};\n",
       "        if (window.MathJax) {MathJax.Hub.Config({SVG: {font: \"STIX-Web\"}});}\n",
       "        if (typeof require !== 'undefined') {\n",
       "        require.undef(\"plotly\");\n",
       "        requirejs.config({\n",
       "            paths: {\n",
       "                'plotly': ['https://cdn.plot.ly/plotly-2.9.0.min']\n",
       "            }\n",
       "        });\n",
       "        require(['plotly'], function(Plotly) {\n",
       "            window._Plotly = Plotly;\n",
       "        });\n",
       "        }\n",
       "        </script>\n",
       "        "
      ]
     },
     "metadata": {},
     "output_type": "display_data"
    },
    {
     "data": {
      "text/html": [
       "        <script type=\"text/javascript\">\n",
       "        window.PlotlyConfig = {MathJaxConfig: 'local'};\n",
       "        if (window.MathJax) {MathJax.Hub.Config({SVG: {font: \"STIX-Web\"}});}\n",
       "        if (typeof require !== 'undefined') {\n",
       "        require.undef(\"plotly\");\n",
       "        requirejs.config({\n",
       "            paths: {\n",
       "                'plotly': ['https://cdn.plot.ly/plotly-2.9.0.min']\n",
       "            }\n",
       "        });\n",
       "        require(['plotly'], function(Plotly) {\n",
       "            window._Plotly = Plotly;\n",
       "        });\n",
       "        }\n",
       "        </script>\n",
       "        "
      ]
     },
     "metadata": {},
     "output_type": "display_data"
    }
   ],
   "source": [
    "# imports - plotly\n",
    "import plotly.express as px\n",
    "import plotly.graph_objects as go\n",
    "import plotly.figure_factory as ff\n",
    "from plotly.subplots import make_subplots\n",
    "from IPython.display import HTML\n",
    "\n",
    "from plotly.offline import iplot\n",
    "import plotly as py\n",
    "import cufflinks as cf\n",
    "\n",
    "py.offline.init_notebook_mode(connected=True)\n",
    "cf.go_offline()\n"
   ]
  },
  {
   "cell_type": "markdown",
   "id": "4991ed63",
   "metadata": {},
   "source": [
    "***\n",
    "## Load the dataset"
   ]
  },
  {
   "cell_type": "code",
   "execution_count": 4,
   "id": "58851002",
   "metadata": {},
   "outputs": [
    {
     "data": {
      "text/html": [
       "<div><div id=af069e5d-9d6a-48ec-9767-7b3028d001f7 style=\"display:none; background-color:#9D6CFF; color:white; width:200px; height:30px; padding-left:5px; border-radius:4px; flex-direction:row; justify-content:space-around; align-items:center;\" onmouseover=\"this.style.backgroundColor='#BA9BF8'\" onmouseout=\"this.style.backgroundColor='#9D6CFF'\" onclick=\"window.commands?.execute('create-mitosheet-from-dataframe-output');\">See Full Dataframe in Mito</div> <script> if (window.commands.hasCommand('create-mitosheet-from-dataframe-output')) document.getElementById('af069e5d-9d6a-48ec-9767-7b3028d001f7').style.display = 'flex' </script> <table border=\"1\" class=\"dataframe\">\n",
       "  <thead>\n",
       "    <tr style=\"text-align: right;\">\n",
       "      <th></th>\n",
       "      <th>id</th>\n",
       "      <th>gender_id</th>\n",
       "      <th>pickup_datetime</th>\n",
       "      <th>dropoff_datetime</th>\n",
       "      <th>pickup_longitude</th>\n",
       "      <th>pickup_latitude</th>\n",
       "      <th>dropoff_longitude</th>\n",
       "      <th>dropoff_latitude</th>\n",
       "      <th>trip_duration</th>\n",
       "    </tr>\n",
       "  </thead>\n",
       "  <tbody>\n",
       "    <tr>\n",
       "      <th>0</th>\n",
       "      <td>25242</td>\n",
       "      <td>2</td>\n",
       "      <td>2016-05-30 15:23:05</td>\n",
       "      <td>2016-05-30 15:52:59</td>\n",
       "      <td>-73.976485</td>\n",
       "      <td>40.759923</td>\n",
       "      <td>-74.002150</td>\n",
       "      <td>40.730386</td>\n",
       "      <td>1794</td>\n",
       "    </tr>\n",
       "    <tr>\n",
       "      <th>1</th>\n",
       "      <td>20900</td>\n",
       "      <td>1</td>\n",
       "      <td>2016-04-24 19:56:47</td>\n",
       "      <td>2016-04-24 20:02:17</td>\n",
       "      <td>-74.003664</td>\n",
       "      <td>40.743174</td>\n",
       "      <td>-74.002150</td>\n",
       "      <td>40.730386</td>\n",
       "      <td>329</td>\n",
       "    </tr>\n",
       "    <tr>\n",
       "      <th>2</th>\n",
       "      <td>18792</td>\n",
       "      <td>1</td>\n",
       "      <td>2016-06-25 15:08:38</td>\n",
       "      <td>2016-06-25 15:15:57</td>\n",
       "      <td>-73.991908</td>\n",
       "      <td>40.716059</td>\n",
       "      <td>-74.005524</td>\n",
       "      <td>40.711464</td>\n",
       "      <td>438</td>\n",
       "    </tr>\n",
       "    <tr>\n",
       "      <th>3</th>\n",
       "      <td>17420</td>\n",
       "      <td>1</td>\n",
       "      <td>2016-06-28 18:14:17</td>\n",
       "      <td>2016-06-28 18:35:25</td>\n",
       "      <td>-73.986569</td>\n",
       "      <td>40.701485</td>\n",
       "      <td>-73.989900</td>\n",
       "      <td>40.714275</td>\n",
       "      <td>1268</td>\n",
       "    </tr>\n",
       "    <tr>\n",
       "      <th>4</th>\n",
       "      <td>22403</td>\n",
       "      <td>1</td>\n",
       "      <td>2016-06-11 17:10:33</td>\n",
       "      <td>2016-06-11 17:14:44</td>\n",
       "      <td>-73.989551</td>\n",
       "      <td>40.740343</td>\n",
       "      <td>-73.990093</td>\n",
       "      <td>40.737050</td>\n",
       "      <td>251</td>\n",
       "    </tr>\n",
       "  </tbody>\n",
       "</table></div>"
      ],
      "text/plain": [
       "      id  gender_id      pickup_datetime     dropoff_datetime  \\\n",
       "0  25242          2  2016-05-30 15:23:05  2016-05-30 15:52:59   \n",
       "1  20900          1  2016-04-24 19:56:47  2016-04-24 20:02:17   \n",
       "2  18792          1  2016-06-25 15:08:38  2016-06-25 15:15:57   \n",
       "3  17420          1  2016-06-28 18:14:17  2016-06-28 18:35:25   \n",
       "4  22403          1  2016-06-11 17:10:33  2016-06-11 17:14:44   \n",
       "\n",
       "   pickup_longitude  pickup_latitude  dropoff_longitude  dropoff_latitude  \\\n",
       "0        -73.976485        40.759923         -74.002150         40.730386   \n",
       "1        -74.003664        40.743174         -74.002150         40.730386   \n",
       "2        -73.991908        40.716059         -74.005524         40.711464   \n",
       "3        -73.986569        40.701485         -73.989900         40.714275   \n",
       "4        -73.989551        40.740343         -73.990093         40.737050   \n",
       "\n",
       "   trip_duration  \n",
       "0           1794  \n",
       "1            329  \n",
       "2            438  \n",
       "3           1268  \n",
       "4            251  "
      ]
     },
     "execution_count": 4,
     "metadata": {},
     "output_type": "execute_result"
    }
   ],
   "source": [
    "df = pd.read_csv('citi_bike_2016.csv')\n",
    "df.head()"
   ]
  },
  {
   "cell_type": "code",
   "execution_count": 5,
   "id": "f9d524d2",
   "metadata": {},
   "outputs": [
    {
     "name": "stdout",
     "output_type": "stream",
     "text": [
      "\n",
      "Shape:\n",
      "(4500000, 9)\n",
      "------------------------\n",
      "Null values:\n",
      "id                   0\n",
      "gender_id            0\n",
      "pickup_datetime      0\n",
      "dropoff_datetime     0\n",
      "pickup_longitude     0\n",
      "pickup_latitude      0\n",
      "dropoff_longitude    0\n",
      "dropoff_latitude     0\n",
      "trip_duration        0\n",
      "dtype: int64\n",
      "------------------------\n",
      "Duplicates:\n",
      "4490842\n",
      "\n"
     ]
    }
   ],
   "source": [
    "print(f\"\"\"\n",
    "Shape:\n",
    "{df.shape}\n",
    "------------------------\n",
    "Null values:\n",
    "{df.isnull().sum()}\n",
    "------------------------\n",
    "Duplicates:\n",
    "{df.duplicated('id').sum()}\n",
    "\"\"\")"
   ]
  },
  {
   "cell_type": "markdown",
   "id": "f781d3c5",
   "metadata": {},
   "source": [
    "We can see there are a lot of duplicate values on ID, but they are not presenting a trips lats and longs.<br>\n",
    "Therefore, we will drop this column as it is not required."
   ]
  },
  {
   "cell_type": "code",
   "execution_count": 6,
   "id": "70077b04",
   "metadata": {},
   "outputs": [],
   "source": [
    "data = df.drop(['id'], axis = 1)\n",
    "# data.head(1)"
   ]
  },
  {
   "cell_type": "code",
   "execution_count": 7,
   "id": "897a0f1e",
   "metadata": {},
   "outputs": [],
   "source": [
    "from pyproj import crs\n",
    "import geopandas as gpd\n",
    "import matplotlib.pyplot as plt"
   ]
  },
  {
   "cell_type": "markdown",
   "id": "e830792d",
   "metadata": {},
   "source": [
    "### Creation of map\n",
    "\n",
    "Simple Creation of a map"
   ]
  },
  {
   "cell_type": "code",
   "execution_count": 8,
   "id": "dcea8a52",
   "metadata": {},
   "outputs": [],
   "source": [
    "# Create a Map instance\n",
    "m = folium.Map(location=[60.25, 24.8], zoom_start=10, control_scale=True)\n",
    "# m"
   ]
  },
  {
   "cell_type": "code",
   "execution_count": 9,
   "id": "559ca108",
   "metadata": {},
   "outputs": [],
   "source": [
    "#  you can also save it to html file\n",
    "outfp = \"base_map.html\"\n",
    "m.save(outfp)"
   ]
  },
  {
   "cell_type": "markdown",
   "id": "63a8dfe1",
   "metadata": {},
   "source": [
    "***\n",
    "### Change of canvas"
   ]
  },
  {
   "cell_type": "code",
   "execution_count": 10,
   "id": "6798fca0",
   "metadata": {},
   "outputs": [],
   "source": [
    "# Let's change the basemap style to 'Stamen Toner'\n",
    "m = folium.Map(location=[40.730610, -73.935242], tiles='Stamen Toner',\n",
    "                zoom_start=12, control_scale=True, prefer_canvas=True)\n",
    "\n",
    "# m"
   ]
  },
  {
   "cell_type": "code",
   "execution_count": 11,
   "id": "1d5c54b6",
   "metadata": {},
   "outputs": [],
   "source": [
    "# Also change of colors\n",
    "m = folium.Map(location=[41,29],\n",
    "tiles=\"Stamen Watercolor\",\n",
    " width=\"%100\",\n",
    "height=\"%100\",\n",
    "zoom_start=10)"
   ]
  },
  {
   "cell_type": "markdown",
   "id": "8abd8042",
   "metadata": {},
   "source": [
    "***\n",
    "### Adding layers and markers"
   ]
  },
  {
   "cell_type": "code",
   "execution_count": 12,
   "id": "1b491846",
   "metadata": {},
   "outputs": [
    {
     "data": {
      "text/plain": [
       "<folium.map.Marker at 0x7f88b49c3ee0>"
      ]
     },
     "execution_count": 12,
     "metadata": {},
     "output_type": "execute_result"
    }
   ],
   "source": [
    "# Create a Map instance\n",
    "m = folium.Map(location=[60.20, 24.96],\n",
    "    zoom_start=12, control_scale=True)\n",
    "\n",
    "# Add marker\n",
    "# Run: help(folium.Icon) for more info about icons\n",
    "folium.Marker(\n",
    "    location=[60.20426, 24.96179],\n",
    "    popup='Kumpula Campus',\n",
    "    icon=folium.Icon(color='green', icon='ok-sign'),\n",
    ").add_to(m)\n",
    "\n",
    "#Show map\n",
    "# m"
   ]
  },
  {
   "cell_type": "code",
   "execution_count": 27,
   "id": "34e70bb8",
   "metadata": {},
   "outputs": [],
   "source": [
    "# Add Multiple markers\n",
    "map = folium.Map(location=[data.pickup_latitude.mean(),\n",
    "                           data.pickup_longitude.mean()], zoom_start=14, control_scale=True)\n",
    "for index, location_info in data.head(20).iterrows():\n",
    "    folium.Marker([location_info[\"pickup_latitude\"], location_info[\"pickup_longitude\"]], \n",
    "                  popup=location_info[\"pickup_datetime\"]).add_to(map)    \n",
    "# map"
   ]
  },
  {
   "cell_type": "markdown",
   "id": "12ecbcc4",
   "metadata": {},
   "source": [
    "Add A circle to the point for more visualize"
   ]
  },
  {
   "cell_type": "code",
   "execution_count": 30,
   "id": "8186a1b9",
   "metadata": {},
   "outputs": [
    {
     "data": {
      "text/plain": [
       "<folium.features.Circle at 0x7f88bda2f5e0>"
      ]
     },
     "execution_count": 30,
     "metadata": {},
     "output_type": "execute_result"
    }
   ],
   "source": [
    "# circle the point\n",
    "m = folium.Map(location=[41,29],tiles=\"Stamen watercolor\",\n",
    "width=\"%100\",\n",
    "height=\"%100\",\n",
    "zoom_start=10)\n",
    "folium.Circle(\n",
    "radius=5000,\n",
    "location=[41,29],\n",
    "color='crimson',\n",
    "fill=False,).add_to(m)\n",
    "# m"
   ]
  },
  {
   "cell_type": "markdown",
   "id": "9ca1c26e",
   "metadata": {},
   "source": [
    "Marker + Circle of the point"
   ]
  },
  {
   "cell_type": "code",
   "execution_count": 32,
   "id": "a15c1c54",
   "metadata": {
    "scrolled": false
   },
   "outputs": [
    {
     "data": {
      "text/plain": [
       "<folium.features.CircleMarker at 0x7f88bda742e0>"
      ]
     },
     "execution_count": 32,
     "metadata": {},
     "output_type": "execute_result"
    }
   ],
   "source": [
    "m = folium.Map(location=[40.75834,30.38001])\n",
    "folium.Marker(location=[40.75834,30.38001], popup =  'Sakarya').add_to(m)\n",
    "folium.CircleMarker(location=(40.75834,30.38001),radius=100, fill_color='blue', fill=True).add_to(m)\n",
    "# m"
   ]
  },
  {
   "cell_type": "markdown",
   "id": "8b896c8d",
   "metadata": {},
   "source": [
    "***\n",
    "### Adding images"
   ]
  },
  {
   "cell_type": "code",
   "execution_count": 34,
   "id": "33c7ca43",
   "metadata": {},
   "outputs": [
    {
     "data": {
      "text/plain": [
       "<folium.plugins.float_image.FloatImage at 0x7f88bdabd190>"
      ]
     },
     "execution_count": 34,
     "metadata": {},
     "output_type": "execute_result"
    }
   ],
   "source": [
    "import folium\n",
    "from folium.plugins import FloatImage\n",
    "\n",
    "\n",
    "url = (\n",
    "    \"https://raw.githubusercontent.com/ocefpaf/secoora_assets_map/\"\n",
    "    \"a250729bbcf2ddd12f46912d36c33f7539131bec/secoora_icons/rose.png\"\n",
    ")\n",
    "\n",
    "m = folium.Map([-13, -38.15], zoom_start=10)\n",
    "\n",
    "FloatImage(url, bottom=40, left=65).add_to(m)\n",
    "\n",
    "# m"
   ]
  },
  {
   "cell_type": "markdown",
   "id": "4a26ade7",
   "metadata": {},
   "source": [
    "***\n",
    "### Heatmaps"
   ]
  },
  {
   "cell_type": "code",
   "execution_count": 17,
   "id": "c92842e3",
   "metadata": {},
   "outputs": [],
   "source": [
    "# Create a list of coordinate pairs\n",
    "locations = list(zip(data[\"pickup_latitude\"].head(1000), data[\"pickup_longitude\"].head(1000)))"
   ]
  },
  {
   "cell_type": "code",
   "execution_count": 18,
   "id": "046742cb",
   "metadata": {},
   "outputs": [
    {
     "data": {
      "text/plain": [
       "(40.75992262, -73.97648516)"
      ]
     },
     "execution_count": 18,
     "metadata": {},
     "output_type": "execute_result"
    }
   ],
   "source": [
    "locations[0]"
   ]
  },
  {
   "cell_type": "code",
   "execution_count": 36,
   "id": "9e177b5f",
   "metadata": {},
   "outputs": [
    {
     "data": {
      "text/plain": [
       "<folium.plugins.heat_map.HeatMap at 0x7f88bda2a220>"
      ]
     },
     "execution_count": 36,
     "metadata": {},
     "output_type": "execute_result"
    }
   ],
   "source": [
    "from folium.plugins import HeatMap\n",
    "\n",
    "# Create a Map instance\n",
    "m = folium.Map(location=[40.75992262, -73.97648516], tiles = 'stamentoner', zoom_start=12, control_scale=True)\n",
    "\n",
    "# Add heatmap to map instance\n",
    "# Available parameters: HeatMap(data, name=None, min_opacity=0.5, max_zoom=18, \n",
    "# max_val=1.0, radius=25, blur=15, gradient=None, overlay=True, control=True, show=True)\n",
    "HeatMap(locations).add_to(m)\n",
    "\n",
    "# Show map\n",
    "# m"
   ]
  },
  {
   "cell_type": "markdown",
   "id": "64e43505",
   "metadata": {},
   "source": [
    "***\n",
    "### Clustered point map"
   ]
  },
  {
   "cell_type": "code",
   "execution_count": 20,
   "id": "18932c0d",
   "metadata": {},
   "outputs": [],
   "source": [
    "from folium.plugins import MarkerCluster"
   ]
  },
  {
   "cell_type": "code",
   "execution_count": 21,
   "id": "13305c73",
   "metadata": {},
   "outputs": [],
   "source": [
    "# Create a list of coordinate pairs\n",
    "locations = list(zip(data[\"pickup_latitude\"].head(1000), data[\"pickup_longitude\"].head(1000)))"
   ]
  },
  {
   "cell_type": "code",
   "execution_count": 22,
   "id": "635af799",
   "metadata": {},
   "outputs": [],
   "source": [
    "m = folium.Map(location=[40.75992262, -73.97648516], tiles = 'cartodbpositron', zoom_start=11, control_scale=True)"
   ]
  },
  {
   "cell_type": "code",
   "execution_count": 38,
   "id": "632a98b3",
   "metadata": {},
   "outputs": [
    {
     "data": {
      "text/plain": [
       "<folium.plugins.marker_cluster.MarkerCluster at 0x7f88bda74ac0>"
      ]
     },
     "execution_count": 38,
     "metadata": {},
     "output_type": "execute_result"
    }
   ],
   "source": [
    "# Create a folium marker cluster\n",
    "marker_cluster = MarkerCluster(locations)\n",
    "\n",
    "# Add marker cluster to map\n",
    "marker_cluster.add_to(m)\n",
    "\n",
    "# Show map\n",
    "# m"
   ]
  },
  {
   "cell_type": "markdown",
   "id": "b37fcc98",
   "metadata": {},
   "source": [
    "***\n",
    "### Create routes"
   ]
  },
  {
   "cell_type": "code",
   "execution_count": 24,
   "id": "7c14be96",
   "metadata": {},
   "outputs": [],
   "source": [
    "locations = list(zip(data[\"pickup_latitude\"].head(5), data[\"pickup_longitude\"].head(5)))"
   ]
  },
  {
   "cell_type": "code",
   "execution_count": 39,
   "id": "20046342",
   "metadata": {
    "scrolled": true
   },
   "outputs": [
    {
     "data": {
      "text/html": [
       "<div style=\"width:100%;\"><div style=\"position:relative;width:100%;height:0;padding-bottom:60%;\"><span style=\"color:#565656\">Make this Notebook Trusted to load map: File -> Trust Notebook</span><iframe src=\"about:blank\" style=\"position:absolute;width:100%;height:100%;left:0;top:0;border:none !important;\" data-html=%3C%21DOCTYPE%20html%3E%0A%3Chead%3E%20%20%20%20%0A%20%20%20%20%3Cmeta%20http-equiv%3D%22content-type%22%20content%3D%22text/html%3B%20charset%3DUTF-8%22%20/%3E%0A%20%20%20%20%3Cscript%3EL_PREFER_CANVAS%20%3D%20false%3B%20L_NO_TOUCH%20%3D%20false%3B%20L_DISABLE_3D%20%3D%20false%3B%3C/script%3E%0A%20%20%20%20%3Cscript%20src%3D%22https%3A//cdn.jsdelivr.net/npm/leaflet%401.2.0/dist/leaflet.js%22%3E%3C/script%3E%0A%20%20%20%20%3Cscript%20src%3D%22https%3A//ajax.googleapis.com/ajax/libs/jquery/1.11.1/jquery.min.js%22%3E%3C/script%3E%0A%20%20%20%20%3Cscript%20src%3D%22https%3A//maxcdn.bootstrapcdn.com/bootstrap/3.2.0/js/bootstrap.min.js%22%3E%3C/script%3E%0A%20%20%20%20%3Cscript%20src%3D%22https%3A//cdnjs.cloudflare.com/ajax/libs/Leaflet.awesome-markers/2.0.2/leaflet.awesome-markers.js%22%3E%3C/script%3E%0A%20%20%20%20%3Clink%20rel%3D%22stylesheet%22%20href%3D%22https%3A//cdn.jsdelivr.net/npm/leaflet%401.2.0/dist/leaflet.css%22/%3E%0A%20%20%20%20%3Clink%20rel%3D%22stylesheet%22%20href%3D%22https%3A//maxcdn.bootstrapcdn.com/bootstrap/3.2.0/css/bootstrap.min.css%22/%3E%0A%20%20%20%20%3Clink%20rel%3D%22stylesheet%22%20href%3D%22https%3A//maxcdn.bootstrapcdn.com/bootstrap/3.2.0/css/bootstrap-theme.min.css%22/%3E%0A%20%20%20%20%3Clink%20rel%3D%22stylesheet%22%20href%3D%22https%3A//maxcdn.bootstrapcdn.com/font-awesome/4.6.3/css/font-awesome.min.css%22/%3E%0A%20%20%20%20%3Clink%20rel%3D%22stylesheet%22%20href%3D%22https%3A//cdnjs.cloudflare.com/ajax/libs/Leaflet.awesome-markers/2.0.2/leaflet.awesome-markers.css%22/%3E%0A%20%20%20%20%3Clink%20rel%3D%22stylesheet%22%20href%3D%22https%3A//rawgit.com/python-visualization/folium/master/folium/templates/leaflet.awesome.rotate.css%22/%3E%0A%20%20%20%20%3Cstyle%3Ehtml%2C%20body%20%7Bwidth%3A%20100%25%3Bheight%3A%20100%25%3Bmargin%3A%200%3Bpadding%3A%200%3B%7D%3C/style%3E%0A%20%20%20%20%3Cstyle%3E%23map%20%7Bposition%3Aabsolute%3Btop%3A0%3Bbottom%3A0%3Bright%3A0%3Bleft%3A0%3B%7D%3C/style%3E%0A%20%20%20%20%0A%20%20%20%20%20%20%20%20%20%20%20%20%3Cstyle%3E%20%23map_4c9ed13854d94d88b9b34cd942d7d91f%20%7B%0A%20%20%20%20%20%20%20%20%20%20%20%20%20%20%20%20position%20%3A%20relative%3B%0A%20%20%20%20%20%20%20%20%20%20%20%20%20%20%20%20width%20%3A%20100.0%25%3B%0A%20%20%20%20%20%20%20%20%20%20%20%20%20%20%20%20height%3A%20100.0%25%3B%0A%20%20%20%20%20%20%20%20%20%20%20%20%20%20%20%20left%3A%200.0%25%3B%0A%20%20%20%20%20%20%20%20%20%20%20%20%20%20%20%20top%3A%200.0%25%3B%0A%20%20%20%20%20%20%20%20%20%20%20%20%20%20%20%20%7D%0A%20%20%20%20%20%20%20%20%20%20%20%20%3C/style%3E%0A%20%20%20%20%20%20%20%20%0A%3C/head%3E%0A%3Cbody%3E%20%20%20%20%0A%20%20%20%20%0A%20%20%20%20%20%20%20%20%20%20%20%20%3Cdiv%20class%3D%22folium-map%22%20id%3D%22map_4c9ed13854d94d88b9b34cd942d7d91f%22%20%3E%3C/div%3E%0A%20%20%20%20%20%20%20%20%0A%3C/body%3E%0A%3Cscript%3E%20%20%20%20%0A%20%20%20%20%0A%0A%20%20%20%20%20%20%20%20%20%20%20%20%0A%20%20%20%20%20%20%20%20%20%20%20%20%20%20%20%20var%20bounds%20%3D%20null%3B%0A%20%20%20%20%20%20%20%20%20%20%20%20%0A%0A%20%20%20%20%20%20%20%20%20%20%20%20var%20map_4c9ed13854d94d88b9b34cd942d7d91f%20%3D%20L.map%28%0A%20%20%20%20%20%20%20%20%20%20%20%20%20%20%20%20%20%20%20%20%20%20%20%20%20%20%20%20%20%20%20%20%20%20%27map_4c9ed13854d94d88b9b34cd942d7d91f%27%2C%0A%20%20%20%20%20%20%20%20%20%20%20%20%20%20%20%20%20%20%20%20%20%20%20%20%20%20%20%20%20%20%20%20%20%20%7Bcenter%3A%20%5B40.75992262%2C-73.97648516%5D%2C%0A%20%20%20%20%20%20%20%20%20%20%20%20%20%20%20%20%20%20%20%20%20%20%20%20%20%20%20%20%20%20%20%20%20%20zoom%3A%2012%2C%0A%20%20%20%20%20%20%20%20%20%20%20%20%20%20%20%20%20%20%20%20%20%20%20%20%20%20%20%20%20%20%20%20%20%20maxBounds%3A%20bounds%2C%0A%20%20%20%20%20%20%20%20%20%20%20%20%20%20%20%20%20%20%20%20%20%20%20%20%20%20%20%20%20%20%20%20%20%20layers%3A%20%5B%5D%2C%0A%20%20%20%20%20%20%20%20%20%20%20%20%20%20%20%20%20%20%20%20%20%20%20%20%20%20%20%20%20%20%20%20%20%20worldCopyJump%3A%20false%2C%0A%20%20%20%20%20%20%20%20%20%20%20%20%20%20%20%20%20%20%20%20%20%20%20%20%20%20%20%20%20%20%20%20%20%20crs%3A%20L.CRS.EPSG3857%0A%20%20%20%20%20%20%20%20%20%20%20%20%20%20%20%20%20%20%20%20%20%20%20%20%20%20%20%20%20%20%20%20%20%7D%29%3B%0A%20%20%20%20%20%20%20%20%20%20%20%20%0A%20%20%20%20%20%20%20%20%0A%20%20%20%20%0A%20%20%20%20%20%20%20%20%20%20%20%20var%20tile_layer_3f8fd878fc5f470ab98a9bc1d7f127fe%20%3D%20L.tileLayer%28%0A%20%20%20%20%20%20%20%20%20%20%20%20%20%20%20%20%27https%3A//%7Bs%7D.tile.openstreetmap.org/%7Bz%7D/%7Bx%7D/%7By%7D.png%27%2C%0A%20%20%20%20%20%20%20%20%20%20%20%20%20%20%20%20%7B%0A%20%20%22attribution%22%3A%20null%2C%0A%20%20%22detectRetina%22%3A%20false%2C%0A%20%20%22maxZoom%22%3A%2018%2C%0A%20%20%22minZoom%22%3A%201%2C%0A%20%20%22noWrap%22%3A%20false%2C%0A%20%20%22subdomains%22%3A%20%22abc%22%0A%7D%0A%20%20%20%20%20%20%20%20%20%20%20%20%20%20%20%20%29.addTo%28map_4c9ed13854d94d88b9b34cd942d7d91f%29%3B%0A%20%20%20%20%20%20%20%20%0A%20%20%20%20%0A%20%20%20%20%20%20%20%20%20%20%20%20%20%20%20%20var%20poly_line_347da9f6c79a438cbbf9a9b8121b421b%20%3D%20L.polyline%28%0A%20%20%20%20%20%20%20%20%20%20%20%20%20%20%20%20%20%20%20%20%5B%5B40.75992262%2C%20-73.97648516%5D%2C%20%5B40.74317449%2C%20-74.00366443%5D%2C%20%5B40.71605866%2C%20-73.99190759%5D%2C%20%5B40.7014851%2C%20-73.98656928%5D%2C%20%5B40.7403432%2C%20-73.98955109%5D%5D%2C%0A%20%20%20%20%20%20%20%20%20%20%20%20%20%20%20%20%20%20%20%20%7B%0A%20%20%22bubblingMouseEvents%22%3A%20true%2C%0A%20%20%22color%22%3A%20%22blue%22%2C%0A%20%20%22dashArray%22%3A%20null%2C%0A%20%20%22dashOffset%22%3A%20null%2C%0A%20%20%22fill%22%3A%20false%2C%0A%20%20%22fillColor%22%3A%20%22blue%22%2C%0A%20%20%22fillOpacity%22%3A%200.2%2C%0A%20%20%22fillRule%22%3A%20%22evenodd%22%2C%0A%20%20%22lineCap%22%3A%20%22round%22%2C%0A%20%20%22lineJoin%22%3A%20%22round%22%2C%0A%20%20%22noClip%22%3A%20false%2C%0A%20%20%22opacity%22%3A%200.8%2C%0A%20%20%22smoothFactor%22%3A%201.0%2C%0A%20%20%22stroke%22%3A%20true%2C%0A%20%20%22weight%22%3A%205%0A%7D%29.addTo%28map_4c9ed13854d94d88b9b34cd942d7d91f%29%3B%0A%20%20%20%20%20%20%20%20%20%20%20%20%0A%3C/script%3E onload=\"this.contentDocument.open();this.contentDocument.write(    decodeURIComponent(this.getAttribute('data-html')));this.contentDocument.close();\" allowfullscreen webkitallowfullscreen mozallowfullscreen></iframe></div></div>"
      ],
      "text/plain": [
       "<folium.folium.Map at 0x7f88bdaa4280>"
      ]
     },
     "execution_count": 39,
     "metadata": {},
     "output_type": "execute_result"
    }
   ],
   "source": [
    "import folium\n",
    "\n",
    "m = folium.Map(location=[40.75992262, -73.97648516],\n",
    "              zoom_start=12)\n",
    "\n",
    "loc = locations\n",
    "\n",
    "folium.PolyLine(loc,\n",
    "                color='blue',\n",
    "                weight=5,\n",
    "                opacity=0.8).add_to(m)\n",
    "# m"
   ]
  }
 ],
 "metadata": {
  "kernelspec": {
   "display_name": "Python 3 (ipykernel)",
   "language": "python",
   "name": "python3"
  },
  "language_info": {
   "codemirror_mode": {
    "name": "ipython",
    "version": 3
   },
   "file_extension": ".py",
   "mimetype": "text/x-python",
   "name": "python",
   "nbconvert_exporter": "python",
   "pygments_lexer": "ipython3",
   "version": "3.9.6"
  }
 },
 "nbformat": 4,
 "nbformat_minor": 5
}
